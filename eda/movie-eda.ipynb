{
 "cells": [
  {
   "cell_type": "markdown",
   "id": "82f945cd-b6d3-4c0d-bbf6-d43547c3b784",
   "metadata": {},
   "source": [
    "# BlockCluster EDA | Kyle McLester\n",
    "The data for this project is found on [Kaggle](https://www.kaggle.com/rounakbanik/the-movies-dataset). Our goal for this portion of the project is to perform a basic exploratory analysis of the data and report our findings"
   ]
  },
  {
   "cell_type": "markdown",
   "id": "2f6becc8-67aa-478b-8d43-fa12b26f9660",
   "metadata": {},
   "source": [
    "## Importing Dependencies"
   ]
  },
  {
   "cell_type": "code",
   "execution_count": 261,
   "id": "f62a867e-f20c-4c42-9f3f-e836026c782a",
   "metadata": {},
   "outputs": [],
   "source": [
    "import pandas as pd\n",
    "import numpy as np\n",
    "import matplotlib.pyplot as plt\n",
    "import seaborn as sns\n",
    "import plotly.graph_objects as go\n",
    "from sklearn.feature_extraction.text import TfidfVectorizer\n",
    "from sklearn.metrics.pairwise import cosine_similarity\n",
    "import re\n",
    "import operator\n",
    "pd.options.mode.chained_assignment = None"
   ]
  },
  {
   "cell_type": "markdown",
   "id": "90264d5e-354c-4cf8-9024-42e284423dfd",
   "metadata": {},
   "source": [
    "## Loading Data"
   ]
  },
  {
   "cell_type": "code",
   "execution_count": 2,
   "id": "e15bffbd-5562-43bf-a728-cd98468bc988",
   "metadata": {},
   "outputs": [],
   "source": [
    "links = pd.read_csv('data/movielens/100k/links.csv', sep=',', encoding='latin-1')\n",
    "movies = pd.read_csv('data/movielens/100k/movies.csv', sep=',', encoding='latin-1')\n",
    "ratings = pd.read_csv('data/movielens/100k/ratings.csv', sep=',', encoding='latin-1', usecols=['userId','movieId','rating'])\n",
    "tags = pd.read_csv('data/movielens/100k/tags.csv', sep=',', encoding='latin-1', usecols=['userId','movieId','tag'])"
   ]
  },
  {
   "cell_type": "markdown",
   "id": "ab395693-8075-4fec-a38b-76e39858a8b2",
   "metadata": {},
   "source": [
    "## Exploring Data"
   ]
  },
  {
   "cell_type": "code",
   "execution_count": 3,
   "id": "cd4f99b7-7d59-4a86-89b9-49b61515f7fb",
   "metadata": {},
   "outputs": [
    {
     "name": "stdout",
     "output_type": "stream",
     "text": [
      "***** COLUMN LABELS *****\n",
      "links: ['movieId', 'imdbId', 'tmdbId']\n",
      "movies: ['movieId', 'title', 'genres']\n",
      "ratings: ['userId', 'movieId', 'rating']\n",
      "tags: ['userId', 'movieId', 'tag']\n"
     ]
    }
   ],
   "source": [
    "print(5*'*'+' COLUMN LABELS '+5*'*')\n",
    "print('links: {}'.format(list(links.columns)))\n",
    "print('movies: {}'.format(list(movies.columns)))\n",
    "print('ratings: {}'.format(list(ratings.columns)))\n",
    "print('tags: {}'.format(list(tags.columns)))"
   ]
  },
  {
   "cell_type": "code",
   "execution_count": 4,
   "id": "78823b72-3a2b-4d7c-965d-4a3da8751ddf",
   "metadata": {},
   "outputs": [
    {
     "name": "stdout",
     "output_type": "stream",
     "text": [
      "***** DATA SHAPE *****\n",
      "links: (9742, 3)\n",
      "movies: (9742, 3)\n",
      "ratings: (100836, 3)\n",
      "tags: (3683, 3)\n"
     ]
    }
   ],
   "source": [
    "print(5*'*'+' DATA SHAPE '+5*'*')\n",
    "print('links: {}'.format(links.shape))\n",
    "print('movies: {}'.format(movies.shape))\n",
    "print('ratings: {}'.format(ratings.shape))\n",
    "print('tags: {}'.format(tags.shape))"
   ]
  },
  {
   "cell_type": "code",
   "execution_count": 5,
   "id": "fc1d49fd-099c-4708-867c-0e72fac80120",
   "metadata": {},
   "outputs": [
    {
     "name": "stdout",
     "output_type": "stream",
     "text": [
      "***** RATING SUMMARY STATS *****\n"
     ]
    },
    {
     "data": {
      "text/plain": [
       "count    100836.000000\n",
       "mean          3.501557\n",
       "std           1.042529\n",
       "min           0.500000\n",
       "25%           3.000000\n",
       "50%           3.500000\n",
       "75%           4.000000\n",
       "max           5.000000\n",
       "Name: rating, dtype: float64"
      ]
     },
     "execution_count": 5,
     "metadata": {},
     "output_type": "execute_result"
    }
   ],
   "source": [
    "print(5*'*'+' RATING SUMMARY STATS '+5*'*')\n",
    "ratings['rating'].describe()"
   ]
  },
  {
   "cell_type": "code",
   "execution_count": 6,
   "id": "1c47aebd-98a0-456e-8160-4c0ba1f4a5e8",
   "metadata": {},
   "outputs": [
    {
     "name": "stdout",
     "output_type": "stream",
     "text": [
      "***** NULL VALUE COUNTS *****\n",
      "links\n",
      "movieId    0\n",
      "imdbId     0\n",
      "tmdbId     8\n",
      "dtype: int64\n",
      "\n",
      "movies\n",
      "movieId    0\n",
      "title      0\n",
      "genres     0\n",
      "dtype: int64\n",
      "\n",
      "ratings\n",
      "userId     0\n",
      "movieId    0\n",
      "rating     0\n",
      "dtype: int64\n",
      "\n",
      "tags\n",
      "userId     0\n",
      "movieId    0\n",
      "tag        0\n",
      "dtype: int64\n",
      "\n"
     ]
    }
   ],
   "source": [
    "print(5*'*'+' NULL VALUE COUNTS '+5*'*')\n",
    "print('links\\n{}\\n'.format(links.isnull().sum()))\n",
    "print('movies\\n{}\\n'.format(movies.isnull().sum()))\n",
    "print('ratings\\n{}\\n'.format(ratings.isnull().sum()))\n",
    "print('tags\\n{}\\n'.format(tags.isnull().sum()))"
   ]
  },
  {
   "cell_type": "code",
   "execution_count": 7,
   "id": "12cf5f00-2d2b-49a4-970f-e71379559b68",
   "metadata": {},
   "outputs": [
    {
     "name": "stdout",
     "output_type": "stream",
     "text": [
      "***** REMOVE ROWS W/NULL VALUES *****\n"
     ]
    },
    {
     "data": {
      "text/plain": [
       "movieId    0\n",
       "imdbId     0\n",
       "tmdbId     0\n",
       "dtype: int64"
      ]
     },
     "execution_count": 7,
     "metadata": {},
     "output_type": "execute_result"
    }
   ],
   "source": [
    "print(5*'*'+' REMOVE ROWS W/NULL VALUES ' + 5*'*')\n",
    "links = links.dropna()\n",
    "links.isnull().sum()"
   ]
  },
  {
   "cell_type": "code",
   "execution_count": 8,
   "id": "e1927a17-f2db-4660-9c5c-744d19151159",
   "metadata": {},
   "outputs": [
    {
     "name": "stdout",
     "output_type": "stream",
     "text": [
      "***** FIRST 5 ROWS *****\n",
      "links\n",
      "   movieId  imdbId   tmdbId\n",
      "0        1  114709    862.0\n",
      "1        2  113497   8844.0\n",
      "2        3  113228  15602.0\n",
      "3        4  114885  31357.0\n",
      "4        5  113041  11862.0\n",
      "\n",
      "movies\n",
      "   movieId                               title  \\\n",
      "0        1                    Toy Story (1995)   \n",
      "1        2                      Jumanji (1995)   \n",
      "2        3             Grumpier Old Men (1995)   \n",
      "3        4            Waiting to Exhale (1995)   \n",
      "4        5  Father of the Bride Part II (1995)   \n",
      "\n",
      "                                        genres  \n",
      "0  Adventure|Animation|Children|Comedy|Fantasy  \n",
      "1                   Adventure|Children|Fantasy  \n",
      "2                               Comedy|Romance  \n",
      "3                         Comedy|Drama|Romance  \n",
      "4                                       Comedy  \n",
      "\n",
      "ratings\n",
      "   userId  movieId  rating\n",
      "0       1        1     4.0\n",
      "1       1        3     4.0\n",
      "2       1        6     4.0\n",
      "3       1       47     5.0\n",
      "4       1       50     5.0\n",
      "\n",
      "tags\n",
      "   userId  movieId              tag\n",
      "0       2    60756            funny\n",
      "1       2    60756  Highly quotable\n",
      "2       2    60756     will ferrell\n",
      "3       2    89774     Boxing story\n",
      "4       2    89774              MMA\n",
      "\n"
     ]
    }
   ],
   "source": [
    "print(5*'*'+' FIRST 5 ROWS '+5*'*')\n",
    "print('links\\n{}\\n'.format(links.head()))\n",
    "print('movies\\n{}\\n'.format(movies.head()))\n",
    "print('ratings\\n{}\\n'.format(ratings.head()))\n",
    "print('tags\\n{}\\n'.format(tags.head()))"
   ]
  },
  {
   "cell_type": "code",
   "execution_count": 9,
   "id": "bc156a01-5ec5-480e-945b-55a78467007c",
   "metadata": {},
   "outputs": [],
   "source": [
    "# break up movies['genre'] into a string\n",
    "movies['genres'] = movies['genres'].str.split('|')\n",
    "movies['genres'] = movies['genres'].fillna('').astype('str')"
   ]
  },
  {
   "cell_type": "code",
   "execution_count": 10,
   "id": "9b4e6d58-ae4e-47b7-8e2e-59b23568392b",
   "metadata": {},
   "outputs": [
    {
     "data": {
      "text/html": [
       "<div>\n",
       "<style scoped>\n",
       "    .dataframe tbody tr th:only-of-type {\n",
       "        vertical-align: middle;\n",
       "    }\n",
       "\n",
       "    .dataframe tbody tr th {\n",
       "        vertical-align: top;\n",
       "    }\n",
       "\n",
       "    .dataframe thead th {\n",
       "        text-align: right;\n",
       "    }\n",
       "</style>\n",
       "<table border=\"1\" class=\"dataframe\">\n",
       "  <thead>\n",
       "    <tr style=\"text-align: right;\">\n",
       "      <th></th>\n",
       "      <th>movieId</th>\n",
       "      <th>title</th>\n",
       "      <th>genres</th>\n",
       "    </tr>\n",
       "  </thead>\n",
       "  <tbody>\n",
       "    <tr>\n",
       "      <th>0</th>\n",
       "      <td>1</td>\n",
       "      <td>Toy Story (1995)</td>\n",
       "      <td>['Adventure', 'Animation', 'Children', 'Comedy...</td>\n",
       "    </tr>\n",
       "    <tr>\n",
       "      <th>1</th>\n",
       "      <td>2</td>\n",
       "      <td>Jumanji (1995)</td>\n",
       "      <td>['Adventure', 'Children', 'Fantasy']</td>\n",
       "    </tr>\n",
       "    <tr>\n",
       "      <th>2</th>\n",
       "      <td>3</td>\n",
       "      <td>Grumpier Old Men (1995)</td>\n",
       "      <td>['Comedy', 'Romance']</td>\n",
       "    </tr>\n",
       "    <tr>\n",
       "      <th>3</th>\n",
       "      <td>4</td>\n",
       "      <td>Waiting to Exhale (1995)</td>\n",
       "      <td>['Comedy', 'Drama', 'Romance']</td>\n",
       "    </tr>\n",
       "    <tr>\n",
       "      <th>4</th>\n",
       "      <td>5</td>\n",
       "      <td>Father of the Bride Part II (1995)</td>\n",
       "      <td>['Comedy']</td>\n",
       "    </tr>\n",
       "  </tbody>\n",
       "</table>\n",
       "</div>"
      ],
      "text/plain": [
       "   movieId                               title  \\\n",
       "0        1                    Toy Story (1995)   \n",
       "1        2                      Jumanji (1995)   \n",
       "2        3             Grumpier Old Men (1995)   \n",
       "3        4            Waiting to Exhale (1995)   \n",
       "4        5  Father of the Bride Part II (1995)   \n",
       "\n",
       "                                              genres  \n",
       "0  ['Adventure', 'Animation', 'Children', 'Comedy...  \n",
       "1               ['Adventure', 'Children', 'Fantasy']  \n",
       "2                              ['Comedy', 'Romance']  \n",
       "3                     ['Comedy', 'Drama', 'Romance']  \n",
       "4                                         ['Comedy']  "
      ]
     },
     "execution_count": 10,
     "metadata": {},
     "output_type": "execute_result"
    }
   ],
   "source": [
    "movies.head()"
   ]
  },
  {
   "cell_type": "code",
   "execution_count": 11,
   "id": "158ac0ce-fe04-4745-bdfb-f4eec94855c5",
   "metadata": {},
   "outputs": [],
   "source": [
    "# extract year from title column\n",
    "movies['year'] = [re.search('(\\d){4}', x) for x in movies['title']]\n",
    "movies = movies.dropna()\n",
    "movies['year'] = [re.search('(\\d){4}', x).group() for x in movies['title']]\n",
    "movies = movies.replace(to_replace='\\((.*)\\)', value='', regex=True)\n",
    "movies = movies.replace(to_replace=' +$', value='', regex=True)\n",
    "movies['year'] = movies['year'].astype('int')"
   ]
  },
  {
   "cell_type": "code",
   "execution_count": 12,
   "id": "a0e1299b-c4f1-4d61-b9d1-f3f094c31f36",
   "metadata": {},
   "outputs": [
    {
     "data": {
      "text/html": [
       "<div>\n",
       "<style scoped>\n",
       "    .dataframe tbody tr th:only-of-type {\n",
       "        vertical-align: middle;\n",
       "    }\n",
       "\n",
       "    .dataframe tbody tr th {\n",
       "        vertical-align: top;\n",
       "    }\n",
       "\n",
       "    .dataframe thead th {\n",
       "        text-align: right;\n",
       "    }\n",
       "</style>\n",
       "<table border=\"1\" class=\"dataframe\">\n",
       "  <thead>\n",
       "    <tr style=\"text-align: right;\">\n",
       "      <th></th>\n",
       "      <th>movieId</th>\n",
       "      <th>title</th>\n",
       "      <th>genres</th>\n",
       "      <th>year</th>\n",
       "    </tr>\n",
       "  </thead>\n",
       "  <tbody>\n",
       "    <tr>\n",
       "      <th>0</th>\n",
       "      <td>1</td>\n",
       "      <td>Toy Story</td>\n",
       "      <td>['Adventure', 'Animation', 'Children', 'Comedy...</td>\n",
       "      <td>1995</td>\n",
       "    </tr>\n",
       "    <tr>\n",
       "      <th>1</th>\n",
       "      <td>2</td>\n",
       "      <td>Jumanji</td>\n",
       "      <td>['Adventure', 'Children', 'Fantasy']</td>\n",
       "      <td>1995</td>\n",
       "    </tr>\n",
       "    <tr>\n",
       "      <th>2</th>\n",
       "      <td>3</td>\n",
       "      <td>Grumpier Old Men</td>\n",
       "      <td>['Comedy', 'Romance']</td>\n",
       "      <td>1995</td>\n",
       "    </tr>\n",
       "    <tr>\n",
       "      <th>3</th>\n",
       "      <td>4</td>\n",
       "      <td>Waiting to Exhale</td>\n",
       "      <td>['Comedy', 'Drama', 'Romance']</td>\n",
       "      <td>1995</td>\n",
       "    </tr>\n",
       "    <tr>\n",
       "      <th>4</th>\n",
       "      <td>5</td>\n",
       "      <td>Father of the Bride Part II</td>\n",
       "      <td>['Comedy']</td>\n",
       "      <td>1995</td>\n",
       "    </tr>\n",
       "  </tbody>\n",
       "</table>\n",
       "</div>"
      ],
      "text/plain": [
       "   movieId                        title  \\\n",
       "0        1                    Toy Story   \n",
       "1        2                      Jumanji   \n",
       "2        3             Grumpier Old Men   \n",
       "3        4            Waiting to Exhale   \n",
       "4        5  Father of the Bride Part II   \n",
       "\n",
       "                                              genres  year  \n",
       "0  ['Adventure', 'Animation', 'Children', 'Comedy...  1995  \n",
       "1               ['Adventure', 'Children', 'Fantasy']  1995  \n",
       "2                              ['Comedy', 'Romance']  1995  \n",
       "3                     ['Comedy', 'Drama', 'Romance']  1995  \n",
       "4                                         ['Comedy']  1995  "
      ]
     },
     "execution_count": 12,
     "metadata": {},
     "output_type": "execute_result"
    }
   ],
   "source": [
    "movies.head()"
   ]
  },
  {
   "cell_type": "code",
   "execution_count": 13,
   "id": "a00f0330-df27-4214-bdba-71ec525fe5c1",
   "metadata": {},
   "outputs": [],
   "source": [
    "# remove title that were missing a year or are recorded after this study\n",
    "movies = movies[movies['year']<=2018]"
   ]
  },
  {
   "cell_type": "markdown",
   "id": "3b234f50-a658-4125-9529-5d92f9c2f33a",
   "metadata": {},
   "source": [
    "## Recommendation based on Genre"
   ]
  },
  {
   "cell_type": "code",
   "execution_count": 14,
   "id": "a75baa08-ec32-43eb-ae1e-07f0eb05fafd",
   "metadata": {},
   "outputs": [],
   "source": [
    "tf = TfidfVectorizer(analyzer='word',\n",
    "                     ngram_range=(1,2),\n",
    "                     min_df=0,\n",
    "                     stop_words='english')"
   ]
  },
  {
   "cell_type": "code",
   "execution_count": 15,
   "id": "2ef8b4d2-ab6c-4b2f-805f-5fa30809a935",
   "metadata": {},
   "outputs": [
    {
     "name": "stdout",
     "output_type": "stream",
     "text": [
      "tfidf_matrix\n",
      "shape: (9724, 174)\n"
     ]
    }
   ],
   "source": [
    "tfidf_matrix = tf.fit_transform(movies['genres'])\n",
    "print('tfidf_matrix\\nshape: {}'.format(tfidf_matrix.shape))"
   ]
  },
  {
   "cell_type": "code",
   "execution_count": 16,
   "id": "d1f5dfd5-0a70-48b9-b674-6a51ba752dfb",
   "metadata": {},
   "outputs": [
    {
     "data": {
      "text/plain": [
       "array([[1.        , 0.31378594, 0.06107542, 0.05268521],\n",
       "       [0.31378594, 1.        , 0.        , 0.        ],\n",
       "       [0.06107542, 0.        , 1.        , 0.3516825 ],\n",
       "       [0.05268521, 0.        , 0.3516825 , 1.        ]])"
      ]
     },
     "execution_count": 16,
     "metadata": {},
     "output_type": "execute_result"
    }
   ],
   "source": [
    "cosine_sim = cosine_similarity(tfidf_matrix, tfidf_matrix)\n",
    "cosine_sim[:4, :4]"
   ]
  },
  {
   "cell_type": "code",
   "execution_count": 17,
   "id": "b8258269-6284-4745-8e25-804d589c3d6f",
   "metadata": {},
   "outputs": [],
   "source": [
    "titles = movies['title']\n",
    "indices = pd.Series(movies.index, index=movies['title'])"
   ]
  },
  {
   "cell_type": "code",
   "execution_count": 18,
   "id": "13bb3568-43da-4e7e-8b53-6e811aab9a00",
   "metadata": {},
   "outputs": [],
   "source": [
    "def genre_recommendations(title, num_titles):\n",
    "    idx = indices[title]\n",
    "    sim_scores = list(enumerate(cosine_sim[idx]))\n",
    "    sim_scores = sorted(sim_scores, key=lambda x: x[1], reverse=True)\n",
    "    sim_scores = sim_scores[1:num_titles+1]\n",
    "    movie_indices = [i[0] for i in sim_scores]\n",
    "    return titles.iloc[movie_indices]"
   ]
  },
  {
   "cell_type": "code",
   "execution_count": 19,
   "id": "b52dcf72-fcf1-4f34-99c0-46279b4115d1",
   "metadata": {},
   "outputs": [
    {
     "data": {
      "text/plain": [
       "1516               Flight of the Navigator\n",
       "4274    Journey to the Center of the Earth\n",
       "5004                             Explorers\n",
       "5396                            D.A.R.Y.L.\n",
       "6436                       Last Mimzy, The\n",
       "6862                         City of Ember\n",
       "9016        Doctor Who: The Waters of Mars\n",
       "1506                       Black Hole, The\n",
       "1554            Return from Witch Mountain\n",
       "2803                            Titan A.E.\n",
       "Name: title, dtype: object"
      ]
     },
     "execution_count": 19,
     "metadata": {},
     "output_type": "execute_result"
    }
   ],
   "source": [
    "genre_recommendations('Tomb Raider', 10)"
   ]
  },
  {
   "cell_type": "code",
   "execution_count": 21,
   "id": "4e77843e-1eb3-4f21-9cd6-75d0106db0a8",
   "metadata": {},
   "outputs": [
    {
     "data": {
      "text/plain": [
       "2861                                        Space Cowboys\n",
       "3069                                           Innerspace\n",
       "3927                        Adventures of Pluto Nash, The\n",
       "5259                                Last Starfighter, The\n",
       "6754    Indiana Jones and the Kingdom of the Crystal S...\n",
       "7052                                     Land of the Lost\n",
       "8691                                             Deadpool\n",
       "9731                                              Gintama\n",
       "560                                            Barbarella\n",
       "969                                    Back to the Future\n",
       "Name: title, dtype: object"
      ]
     },
     "execution_count": 21,
     "metadata": {},
     "output_type": "execute_result"
    }
   ],
   "source": [
    "genre_recommendations('Ant-Man and the Wasp', 10)"
   ]
  },
  {
   "cell_type": "markdown",
   "id": "b2b2006a-55e3-4c67-9d56-7a3450ca3221",
   "metadata": {},
   "source": [
    "## Recommendation based on Title"
   ]
  },
  {
   "cell_type": "code",
   "execution_count": 22,
   "id": "446263fc-b4eb-41af-91a0-5cdfeadc9a43",
   "metadata": {},
   "outputs": [],
   "source": [
    "tf = TfidfVectorizer(analyzer='word',\n",
    "                     ngram_range=(1, 2),\n",
    "                     min_df=0,\n",
    "                     stop_words='english')"
   ]
  },
  {
   "cell_type": "code",
   "execution_count": 23,
   "id": "ed4e65ce-4d1a-4a56-868b-5c34c70874ee",
   "metadata": {},
   "outputs": [
    {
     "data": {
      "text/plain": [
       "(9724, 15855)"
      ]
     },
     "execution_count": 23,
     "metadata": {},
     "output_type": "execute_result"
    }
   ],
   "source": [
    "tfidf_matrix =tf.fit_transform(movies['title'])\n",
    "tfidf_matrix.shape"
   ]
  },
  {
   "cell_type": "code",
   "execution_count": 24,
   "id": "4f01db15-f854-42af-81b8-3b3345841b3c",
   "metadata": {},
   "outputs": [
    {
     "name": "stdout",
     "output_type": "stream",
     "text": [
      "Wall time: 72.1 ms\n"
     ]
    },
    {
     "data": {
      "text/plain": [
       "array([[1., 0., 0., 0.],\n",
       "       [0., 1., 0., 0.],\n",
       "       [0., 0., 1., 0.],\n",
       "       [0., 0., 0., 1.]])"
      ]
     },
     "execution_count": 24,
     "metadata": {},
     "output_type": "execute_result"
    }
   ],
   "source": [
    "%%time\n",
    "cosine_sim = cosine_similarity(tfidf_matrix, tfidf_matrix)\n",
    "cosine_sim[:4, :4]"
   ]
  },
  {
   "cell_type": "code",
   "execution_count": 25,
   "id": "7d59a4fd-5213-4720-8d22-5eacdc566670",
   "metadata": {},
   "outputs": [],
   "source": [
    "titles = movies['title']\n",
    "indices = pd.Series(movies.index, index=movies['title'])"
   ]
  },
  {
   "cell_type": "code",
   "execution_count": 26,
   "id": "f6ffaddc-6b7a-4521-a888-74522256d1ed",
   "metadata": {},
   "outputs": [],
   "source": [
    "def title_recommendations(title, num_titles):\n",
    "    idx = indices[title]\n",
    "    sim_scores = list(enumerate(cosine_sim[idx]))\n",
    "    sim_scores = sorted(sim_scores, key=lambda x: x[1], reverse=True)\n",
    "    sim_scores = sim_scores[1:num_titles+1]\n",
    "    movie_indices = [i[0] for i in sim_scores]\n",
    "    return titles.iloc[movie_indices]"
   ]
  },
  {
   "cell_type": "code",
   "execution_count": 27,
   "id": "a978462f-4775-45e9-8a65-8aa6be7ef360",
   "metadata": {},
   "outputs": [
    {
     "data": {
      "text/plain": [
       "9433                         Rogue One: A Star Wars Story\n",
       "567                                                  Solo\n",
       "6823                            Star Wars: The Clone Wars\n",
       "9645                             Star Wars: The Last Jedi\n",
       "8908                        The Star Wars Holiday Special\n",
       "7367    Empire of Dreams: The Story of the 'Star Wars'...\n",
       "1979            Star Wars: Episode I - The Phantom Menace\n",
       "898        Star Wars: Episode V - The Empire Strikes Back\n",
       "1570                                           L.A. Story\n",
       "2227                                     Story of Us, The\n",
       "Name: title, dtype: object"
      ]
     },
     "execution_count": 27,
     "metadata": {},
     "output_type": "execute_result"
    }
   ],
   "source": [
    "title_recommendations('Tomb Raider', 10)"
   ]
  },
  {
   "cell_type": "code",
   "execution_count": 28,
   "id": "57b7ff0a-3d0c-4f67-9714-c5621e273cfa",
   "metadata": {},
   "outputs": [
    {
     "data": {
      "text/plain": [
       "2355           Toy Story 2\n",
       "7355           Toy Story 3\n",
       "3595              Toy, The\n",
       "1570            L.A. Story\n",
       "2227      Story of Us, The\n",
       "4156       Story of O, The\n",
       "4089          Toy Soldiers\n",
       "3187            Love Story\n",
       "2110    Christmas Story, A\n",
       "4047           Ghost Story\n",
       "Name: title, dtype: object"
      ]
     },
     "execution_count": 28,
     "metadata": {},
     "output_type": "execute_result"
    }
   ],
   "source": [
    "title_recommendations('Toy Story', 10)"
   ]
  },
  {
   "cell_type": "markdown",
   "id": "23fcaa75-79fa-4b58-9f9b-5322f568771b",
   "metadata": {},
   "source": [
    "## Average Rating Given by Each User"
   ]
  },
  {
   "cell_type": "code",
   "execution_count": 64,
   "id": "4566fad3-99d5-4da6-9078-694f16e4b128",
   "metadata": {},
   "outputs": [],
   "source": [
    "merged_df = ratings.join(movies.set_index('movieId'), on='movieId')"
   ]
  },
  {
   "cell_type": "code",
   "execution_count": 65,
   "id": "bca90726-feff-49a9-bc97-c32710f7e531",
   "metadata": {},
   "outputs": [
    {
     "data": {
      "text/html": [
       "<div>\n",
       "<style scoped>\n",
       "    .dataframe tbody tr th:only-of-type {\n",
       "        vertical-align: middle;\n",
       "    }\n",
       "\n",
       "    .dataframe tbody tr th {\n",
       "        vertical-align: top;\n",
       "    }\n",
       "\n",
       "    .dataframe thead th {\n",
       "        text-align: right;\n",
       "    }\n",
       "</style>\n",
       "<table border=\"1\" class=\"dataframe\">\n",
       "  <thead>\n",
       "    <tr style=\"text-align: right;\">\n",
       "      <th></th>\n",
       "      <th>userId</th>\n",
       "      <th>movieId</th>\n",
       "      <th>rating</th>\n",
       "      <th>title</th>\n",
       "      <th>genres</th>\n",
       "      <th>year</th>\n",
       "    </tr>\n",
       "  </thead>\n",
       "  <tbody>\n",
       "    <tr>\n",
       "      <th>0</th>\n",
       "      <td>1</td>\n",
       "      <td>1</td>\n",
       "      <td>4.0</td>\n",
       "      <td>Toy Story</td>\n",
       "      <td>['Adventure', 'Animation', 'Children', 'Comedy...</td>\n",
       "      <td>1995.0</td>\n",
       "    </tr>\n",
       "    <tr>\n",
       "      <th>1</th>\n",
       "      <td>1</td>\n",
       "      <td>3</td>\n",
       "      <td>4.0</td>\n",
       "      <td>Grumpier Old Men</td>\n",
       "      <td>['Comedy', 'Romance']</td>\n",
       "      <td>1995.0</td>\n",
       "    </tr>\n",
       "    <tr>\n",
       "      <th>2</th>\n",
       "      <td>1</td>\n",
       "      <td>6</td>\n",
       "      <td>4.0</td>\n",
       "      <td>Heat</td>\n",
       "      <td>['Action', 'Crime', 'Thriller']</td>\n",
       "      <td>1995.0</td>\n",
       "    </tr>\n",
       "    <tr>\n",
       "      <th>3</th>\n",
       "      <td>1</td>\n",
       "      <td>47</td>\n",
       "      <td>5.0</td>\n",
       "      <td>Seven</td>\n",
       "      <td>['Mystery', 'Thriller']</td>\n",
       "      <td>1995.0</td>\n",
       "    </tr>\n",
       "    <tr>\n",
       "      <th>4</th>\n",
       "      <td>1</td>\n",
       "      <td>50</td>\n",
       "      <td>5.0</td>\n",
       "      <td>Usual Suspects, The</td>\n",
       "      <td>['Crime', 'Mystery', 'Thriller']</td>\n",
       "      <td>1995.0</td>\n",
       "    </tr>\n",
       "    <tr>\n",
       "      <th>...</th>\n",
       "      <td>...</td>\n",
       "      <td>...</td>\n",
       "      <td>...</td>\n",
       "      <td>...</td>\n",
       "      <td>...</td>\n",
       "      <td>...</td>\n",
       "    </tr>\n",
       "    <tr>\n",
       "      <th>227</th>\n",
       "      <td>1</td>\n",
       "      <td>3744</td>\n",
       "      <td>4.0</td>\n",
       "      <td>Shaft</td>\n",
       "      <td>['Action', 'Crime', 'Thriller']</td>\n",
       "      <td>2000.0</td>\n",
       "    </tr>\n",
       "    <tr>\n",
       "      <th>228</th>\n",
       "      <td>1</td>\n",
       "      <td>3793</td>\n",
       "      <td>5.0</td>\n",
       "      <td>X-Men</td>\n",
       "      <td>['Action', 'Adventure', 'Sci-Fi']</td>\n",
       "      <td>2000.0</td>\n",
       "    </tr>\n",
       "    <tr>\n",
       "      <th>229</th>\n",
       "      <td>1</td>\n",
       "      <td>3809</td>\n",
       "      <td>4.0</td>\n",
       "      <td>What About Bob?</td>\n",
       "      <td>['Comedy']</td>\n",
       "      <td>1991.0</td>\n",
       "    </tr>\n",
       "    <tr>\n",
       "      <th>230</th>\n",
       "      <td>1</td>\n",
       "      <td>4006</td>\n",
       "      <td>4.0</td>\n",
       "      <td>Transformers: The Movie</td>\n",
       "      <td>['Adventure', 'Animation', 'Children', 'Sci-Fi']</td>\n",
       "      <td>1986.0</td>\n",
       "    </tr>\n",
       "    <tr>\n",
       "      <th>231</th>\n",
       "      <td>1</td>\n",
       "      <td>5060</td>\n",
       "      <td>5.0</td>\n",
       "      <td>M*A*S*H</td>\n",
       "      <td>['Comedy', 'Drama', 'War']</td>\n",
       "      <td>1970.0</td>\n",
       "    </tr>\n",
       "  </tbody>\n",
       "</table>\n",
       "<p>232 rows × 6 columns</p>\n",
       "</div>"
      ],
      "text/plain": [
       "     userId  movieId  rating                    title  \\\n",
       "0         1        1     4.0                Toy Story   \n",
       "1         1        3     4.0         Grumpier Old Men   \n",
       "2         1        6     4.0                     Heat   \n",
       "3         1       47     5.0                    Seven   \n",
       "4         1       50     5.0      Usual Suspects, The   \n",
       "..      ...      ...     ...                      ...   \n",
       "227       1     3744     4.0                    Shaft   \n",
       "228       1     3793     5.0                    X-Men   \n",
       "229       1     3809     4.0          What About Bob?   \n",
       "230       1     4006     4.0  Transformers: The Movie   \n",
       "231       1     5060     5.0                  M*A*S*H   \n",
       "\n",
       "                                                genres    year  \n",
       "0    ['Adventure', 'Animation', 'Children', 'Comedy...  1995.0  \n",
       "1                                ['Comedy', 'Romance']  1995.0  \n",
       "2                      ['Action', 'Crime', 'Thriller']  1995.0  \n",
       "3                              ['Mystery', 'Thriller']  1995.0  \n",
       "4                     ['Crime', 'Mystery', 'Thriller']  1995.0  \n",
       "..                                                 ...     ...  \n",
       "227                    ['Action', 'Crime', 'Thriller']  2000.0  \n",
       "228                  ['Action', 'Adventure', 'Sci-Fi']  2000.0  \n",
       "229                                         ['Comedy']  1991.0  \n",
       "230   ['Adventure', 'Animation', 'Children', 'Sci-Fi']  1986.0  \n",
       "231                         ['Comedy', 'Drama', 'War']  1970.0  \n",
       "\n",
       "[232 rows x 6 columns]"
      ]
     },
     "execution_count": 65,
     "metadata": {},
     "output_type": "execute_result"
    }
   ],
   "source": [
    "merged_df[merged_df['userId']==1]"
   ]
  },
  {
   "cell_type": "code",
   "execution_count": 66,
   "id": "26f83cba-f3f8-4e82-89cc-a4e8215ee0fe",
   "metadata": {},
   "outputs": [],
   "source": [
    "user_avg_ratings = pd.DataFrame(columns=['userId','avg_rating'])\n",
    "userId = []\n",
    "avg_rating = []\n",
    "for user in merged_df['userId'].unique():\n",
    "    userId.append(user)\n",
    "    avg_rating.append(merged_df[merged_df['userId']==user]['rating'].sum()/len(merged_df[merged_df['userId']==user]))\n",
    "user_avg_ratings['userId'] = userId\n",
    "user_avg_ratings['avg_rating'] = avg_rating"
   ]
  },
  {
   "cell_type": "code",
   "execution_count": 67,
   "id": "22659c2b-a992-4d70-a720-87f6913a0639",
   "metadata": {},
   "outputs": [],
   "source": [
    "user_avg_ratings = user_avg_ratings.set_index('userId')"
   ]
  },
  {
   "cell_type": "code",
   "execution_count": 68,
   "id": "f4529435-e968-4834-9611-60a29f50fefa",
   "metadata": {},
   "outputs": [
    {
     "data": {
      "text/html": [
       "<div>\n",
       "<style scoped>\n",
       "    .dataframe tbody tr th:only-of-type {\n",
       "        vertical-align: middle;\n",
       "    }\n",
       "\n",
       "    .dataframe tbody tr th {\n",
       "        vertical-align: top;\n",
       "    }\n",
       "\n",
       "    .dataframe thead th {\n",
       "        text-align: right;\n",
       "    }\n",
       "</style>\n",
       "<table border=\"1\" class=\"dataframe\">\n",
       "  <thead>\n",
       "    <tr style=\"text-align: right;\">\n",
       "      <th></th>\n",
       "      <th>avg_rating</th>\n",
       "    </tr>\n",
       "  </thead>\n",
       "  <tbody>\n",
       "    <tr>\n",
       "      <th>count</th>\n",
       "      <td>610.000000</td>\n",
       "    </tr>\n",
       "    <tr>\n",
       "      <th>mean</th>\n",
       "      <td>3.657222</td>\n",
       "    </tr>\n",
       "    <tr>\n",
       "      <th>std</th>\n",
       "      <td>0.480635</td>\n",
       "    </tr>\n",
       "    <tr>\n",
       "      <th>min</th>\n",
       "      <td>1.275000</td>\n",
       "    </tr>\n",
       "    <tr>\n",
       "      <th>25%</th>\n",
       "      <td>3.360000</td>\n",
       "    </tr>\n",
       "    <tr>\n",
       "      <th>50%</th>\n",
       "      <td>3.694385</td>\n",
       "    </tr>\n",
       "    <tr>\n",
       "      <th>75%</th>\n",
       "      <td>3.997500</td>\n",
       "    </tr>\n",
       "    <tr>\n",
       "      <th>max</th>\n",
       "      <td>5.000000</td>\n",
       "    </tr>\n",
       "  </tbody>\n",
       "</table>\n",
       "</div>"
      ],
      "text/plain": [
       "       avg_rating\n",
       "count  610.000000\n",
       "mean     3.657222\n",
       "std      0.480635\n",
       "min      1.275000\n",
       "25%      3.360000\n",
       "50%      3.694385\n",
       "75%      3.997500\n",
       "max      5.000000"
      ]
     },
     "execution_count": 68,
     "metadata": {},
     "output_type": "execute_result"
    }
   ],
   "source": [
    "user_avg_ratings.describe()"
   ]
  },
  {
   "cell_type": "markdown",
   "id": "9a06aa9b-698f-4c44-89bf-442b4852e633",
   "metadata": {},
   "source": [
    "## Average Rating for Each Movie (Naive)"
   ]
  },
  {
   "cell_type": "code",
   "execution_count": 77,
   "id": "8a50d403-5e5c-4233-828b-7acd0dd6ea14",
   "metadata": {},
   "outputs": [],
   "source": [
    "avg_movie_ratings = pd.DataFrame(columns=['movieId','avg_rating'])\n",
    "movieId = []\n",
    "avg_rating = []\n",
    "for movie in merged_df['movieId'].unique():\n",
    "    movieId.append(movie)\n",
    "    avg_rating.append(merged_df[merged_df['movieId']==movie]['rating'].sum()/len(merged_df[merged_df['movieId']==movie]))\n",
    "avg_movie_ratings['movieId'] = movieId\n",
    "avg_movie_ratings['avg_rating'] = avg_rating"
   ]
  },
  {
   "cell_type": "code",
   "execution_count": 112,
   "id": "8991535b-9117-4433-b62c-cef93be4b89e",
   "metadata": {},
   "outputs": [],
   "source": [
    "avg_movie_ratings = avg_movie_ratings.join(movies.set_index('movieId'), on='movieId')\n",
    "avg_movie_ratings = avg_movie_ratings.drop(['genres','year'], axis=1)\n",
    "avg_movie_ratings = avg_movie_ratings.dropna()"
   ]
  },
  {
   "cell_type": "code",
   "execution_count": 127,
   "id": "e931da7b-2364-4b03-8515-555f81053ac0",
   "metadata": {},
   "outputs": [
    {
     "data": {
      "text/html": [
       "<div>\n",
       "<style scoped>\n",
       "    .dataframe tbody tr th:only-of-type {\n",
       "        vertical-align: middle;\n",
       "    }\n",
       "\n",
       "    .dataframe tbody tr th {\n",
       "        vertical-align: top;\n",
       "    }\n",
       "\n",
       "    .dataframe thead th {\n",
       "        text-align: right;\n",
       "    }\n",
       "</style>\n",
       "<table border=\"1\" class=\"dataframe\">\n",
       "  <thead>\n",
       "    <tr style=\"text-align: right;\">\n",
       "      <th></th>\n",
       "      <th>movieId</th>\n",
       "      <th>avg_rating</th>\n",
       "      <th>title</th>\n",
       "    </tr>\n",
       "  </thead>\n",
       "  <tbody>\n",
       "    <tr>\n",
       "      <th>8941</th>\n",
       "      <td>7114</td>\n",
       "      <td>0.5</td>\n",
       "      <td>Collector, The</td>\n",
       "    </tr>\n",
       "    <tr>\n",
       "      <th>8859</th>\n",
       "      <td>122246</td>\n",
       "      <td>0.5</td>\n",
       "      <td>Tooth Fairy 2</td>\n",
       "    </tr>\n",
       "    <tr>\n",
       "      <th>8531</th>\n",
       "      <td>8632</td>\n",
       "      <td>0.5</td>\n",
       "      <td>Secret Society</td>\n",
       "    </tr>\n",
       "    <tr>\n",
       "      <th>7822</th>\n",
       "      <td>82095</td>\n",
       "      <td>0.5</td>\n",
       "      <td>Skyline</td>\n",
       "    </tr>\n",
       "    <tr>\n",
       "      <th>9298</th>\n",
       "      <td>136297</td>\n",
       "      <td>0.5</td>\n",
       "      <td>Mortal Kombat: The Journey Begins</td>\n",
       "    </tr>\n",
       "    <tr>\n",
       "      <th>6513</th>\n",
       "      <td>54934</td>\n",
       "      <td>0.5</td>\n",
       "      <td>Brothers Solomon, The</td>\n",
       "    </tr>\n",
       "    <tr>\n",
       "      <th>6518</th>\n",
       "      <td>67799</td>\n",
       "      <td>0.5</td>\n",
       "      <td>The Butterfly Effect 3: Revelations</td>\n",
       "    </tr>\n",
       "    <tr>\n",
       "      <th>9610</th>\n",
       "      <td>61818</td>\n",
       "      <td>0.5</td>\n",
       "      <td>Crow, The: Wicked Prayer</td>\n",
       "    </tr>\n",
       "    <tr>\n",
       "      <th>6535</th>\n",
       "      <td>134528</td>\n",
       "      <td>0.5</td>\n",
       "      <td>Aloha</td>\n",
       "    </tr>\n",
       "    <tr>\n",
       "      <th>6539</th>\n",
       "      <td>138798</td>\n",
       "      <td>0.5</td>\n",
       "      <td>Joe Dirt 2: Beautiful Loser</td>\n",
       "    </tr>\n",
       "  </tbody>\n",
       "</table>\n",
       "</div>"
      ],
      "text/plain": [
       "      movieId  avg_rating                                title\n",
       "8941     7114         0.5                       Collector, The\n",
       "8859   122246         0.5                        Tooth Fairy 2\n",
       "8531     8632         0.5                       Secret Society\n",
       "7822    82095         0.5                              Skyline\n",
       "9298   136297         0.5    Mortal Kombat: The Journey Begins\n",
       "6513    54934         0.5                Brothers Solomon, The\n",
       "6518    67799         0.5  The Butterfly Effect 3: Revelations\n",
       "9610    61818         0.5             Crow, The: Wicked Prayer\n",
       "6535   134528         0.5                                Aloha\n",
       "6539   138798         0.5          Joe Dirt 2: Beautiful Loser"
      ]
     },
     "execution_count": 127,
     "metadata": {},
     "output_type": "execute_result"
    }
   ],
   "source": [
    "# 10 lowest rated movies\n",
    "avg_movie_ratings.sort_values(by=['avg_rating'])[:10]"
   ]
  },
  {
   "cell_type": "code",
   "execution_count": 129,
   "id": "1b5da58f-e06f-4133-94b7-790bfa9e1a20",
   "metadata": {},
   "outputs": [
    {
     "data": {
      "text/html": [
       "<div>\n",
       "<style scoped>\n",
       "    .dataframe tbody tr th:only-of-type {\n",
       "        vertical-align: middle;\n",
       "    }\n",
       "\n",
       "    .dataframe tbody tr th {\n",
       "        vertical-align: top;\n",
       "    }\n",
       "\n",
       "    .dataframe thead th {\n",
       "        text-align: right;\n",
       "    }\n",
       "</style>\n",
       "<table border=\"1\" class=\"dataframe\">\n",
       "  <thead>\n",
       "    <tr style=\"text-align: right;\">\n",
       "      <th></th>\n",
       "      <th>movieId</th>\n",
       "      <th>avg_rating</th>\n",
       "      <th>title</th>\n",
       "    </tr>\n",
       "  </thead>\n",
       "  <tbody>\n",
       "    <tr>\n",
       "      <th>4275</th>\n",
       "      <td>4788</td>\n",
       "      <td>5.0</td>\n",
       "      <td>Moscow Does Not Believe in Tears</td>\n",
       "    </tr>\n",
       "    <tr>\n",
       "      <th>8685</th>\n",
       "      <td>120130</td>\n",
       "      <td>5.0</td>\n",
       "      <td>Into the Forest of Fireflies' Light</td>\n",
       "    </tr>\n",
       "    <tr>\n",
       "      <th>7102</th>\n",
       "      <td>6021</td>\n",
       "      <td>5.0</td>\n",
       "      <td>American Friend, The</td>\n",
       "    </tr>\n",
       "    <tr>\n",
       "      <th>5572</th>\n",
       "      <td>5607</td>\n",
       "      <td>5.0</td>\n",
       "      <td>Son of the Bride</td>\n",
       "    </tr>\n",
       "    <tr>\n",
       "      <th>4277</th>\n",
       "      <td>5888</td>\n",
       "      <td>5.0</td>\n",
       "      <td>Brother</td>\n",
       "    </tr>\n",
       "    <tr>\n",
       "      <th>8557</th>\n",
       "      <td>71268</td>\n",
       "      <td>5.0</td>\n",
       "      <td>Tyler Perry's I Can Do Bad All by Myself</td>\n",
       "    </tr>\n",
       "    <tr>\n",
       "      <th>8558</th>\n",
       "      <td>93320</td>\n",
       "      <td>5.0</td>\n",
       "      <td>Trailer Park Boys</td>\n",
       "    </tr>\n",
       "    <tr>\n",
       "      <th>4278</th>\n",
       "      <td>5889</td>\n",
       "      <td>5.0</td>\n",
       "      <td>Cruel Romance, A</td>\n",
       "    </tr>\n",
       "    <tr>\n",
       "      <th>8580</th>\n",
       "      <td>467</td>\n",
       "      <td>5.0</td>\n",
       "      <td>Live Nude Girls</td>\n",
       "    </tr>\n",
       "    <tr>\n",
       "      <th>8581</th>\n",
       "      <td>876</td>\n",
       "      <td>5.0</td>\n",
       "      <td>Supercop 2</td>\n",
       "    </tr>\n",
       "  </tbody>\n",
       "</table>\n",
       "</div>"
      ],
      "text/plain": [
       "      movieId  avg_rating                                     title\n",
       "4275     4788         5.0          Moscow Does Not Believe in Tears\n",
       "8685   120130         5.0       Into the Forest of Fireflies' Light\n",
       "7102     6021         5.0                      American Friend, The\n",
       "5572     5607         5.0                          Son of the Bride\n",
       "4277     5888         5.0                                   Brother\n",
       "8557    71268         5.0  Tyler Perry's I Can Do Bad All by Myself\n",
       "8558    93320         5.0                         Trailer Park Boys\n",
       "4278     5889         5.0                          Cruel Romance, A\n",
       "8580      467         5.0                           Live Nude Girls\n",
       "8581      876         5.0                                Supercop 2"
      ]
     },
     "execution_count": 129,
     "metadata": {},
     "output_type": "execute_result"
    }
   ],
   "source": [
    "# 10 highest rated movies\n",
    "avg_movie_ratings.sort_values(by=['avg_rating'], ascending=False)[:10]"
   ]
  },
  {
   "cell_type": "code",
   "execution_count": 131,
   "id": "3d37533c-4c13-43f6-9b76-58423b469056",
   "metadata": {},
   "outputs": [
    {
     "data": {
      "text/plain": [
       "count    9706.000000\n",
       "mean        3.261957\n",
       "std         0.869360\n",
       "min         0.500000\n",
       "25%         2.800000\n",
       "50%         3.416667\n",
       "75%         3.909773\n",
       "max         5.000000\n",
       "Name: avg_rating, dtype: float64"
      ]
     },
     "execution_count": 131,
     "metadata": {},
     "output_type": "execute_result"
    }
   ],
   "source": [
    "avg_movie_ratings['avg_rating'].describe()"
   ]
  },
  {
   "cell_type": "markdown",
   "id": "4c3bd3fc-d469-4497-81f5-cc866a9e92c9",
   "metadata": {},
   "source": [
    "## Creating User Profiles"
   ]
  },
  {
   "cell_type": "code",
   "execution_count": 193,
   "id": "d1bc2cf9-4ed3-4868-b6ff-1b6bbd52d7b4",
   "metadata": {
    "tags": []
   },
   "outputs": [],
   "source": [
    "profiles = {}\n",
    "\n",
    "for user in merged_df['userId'].unique():\n",
    "    username = 'user_' + str(user)\n",
    "    \n",
    "    temp = merged_df[merged_df['userId']==user]\n",
    "    \n",
    "    titles = temp['title']\n",
    "    ratings = temp['rating']\n",
    "    ratings = list(ratings)\n",
    "    \n",
    "    movie_list = {}\n",
    "    for i, title in enumerate(titles):\n",
    "        movie_list[title] = ratings[i]\n",
    "        \n",
    "    profiles[username] = movie_list"
   ]
  },
  {
   "cell_type": "code",
   "execution_count": 199,
   "id": "b73ac892-3aa8-4a2e-90ea-60b23483dd7a",
   "metadata": {},
   "outputs": [],
   "source": [
    "def get_common_movies(user_A, user_B):\n",
    "    return [movie for movie in profiles[user_A] if movie in profiles[user_B]]"
   ]
  },
  {
   "cell_type": "code",
   "execution_count": 212,
   "id": "e4419291-bdfb-4574-8845-2c580f4ad7f2",
   "metadata": {},
   "outputs": [
    {
     "data": {
      "text/plain": [
       "610"
      ]
     },
     "execution_count": 212,
     "metadata": {},
     "output_type": "execute_result"
    }
   ],
   "source": [
    "# number of available user profiles\n",
    "len(profiles)"
   ]
  },
  {
   "cell_type": "code",
   "execution_count": 213,
   "id": "591f7a96-e279-4367-bd61-705907beee4b",
   "metadata": {},
   "outputs": [
    {
     "data": {
      "text/plain": [
       "['Toy Story',\n",
       " 'Batman Forever',\n",
       " 'Dumb & Dumber',\n",
       " 'Star Wars: Episode IV - A New Hope',\n",
       " 'Ace Ventura: Pet Detective',\n",
       " 'Speed',\n",
       " 'Jurassic Park',\n",
       " 'Batman',\n",
       " 'Wizard of Oz, The',\n",
       " 'Die Hard',\n",
       " 'E.T. the Extra-Terrestrial',\n",
       " 'Star Wars: Episode V - The Empire Strikes Back',\n",
       " 'Raiders of the Lost Ark',\n",
       " 'Aliens',\n",
       " 'Star Wars: Episode VI - Return of the Jedi',\n",
       " 'Alien',\n",
       " 'Army of Darkness',\n",
       " 'Indiana Jones and the Last Crusade',\n",
       " 'Face/Off',\n",
       " 'As Good as It Gets',\n",
       " 'Labyrinth',\n",
       " 'Lethal Weapon',\n",
       " 'Saving Private Ryan',\n",
       " 'Dark Crystal, The',\n",
       " 'NeverEnding Story, The',\n",
       " \"Bug's Life, A\",\n",
       " 'Matrix, The',\n",
       " 'Star Wars: Episode I - The Phantom Menace',\n",
       " 'RoboCop',\n",
       " 'Toy Story 2',\n",
       " 'Beach, The',\n",
       " 'Teenage Mutant Ninja Turtles',\n",
       " 'Flintstones in Viva Rock Vegas, The',\n",
       " 'Shanghai Noon',\n",
       " 'Starman',\n",
       " 'Chicken Run',\n",
       " 'X-Men',\n",
       " \"Charlie's Angels\",\n",
       " 'Cast Away',\n",
       " 'Memento',\n",
       " 'Spy Kids',\n",
       " 'Mummy Returns, The',\n",
       " 'Shrek',\n",
       " 'Jurassic Park III']"
      ]
     },
     "execution_count": 213,
     "metadata": {},
     "output_type": "execute_result"
    }
   ],
   "source": [
    "get_common_movies('user_234','user_610')"
   ]
  },
  {
   "cell_type": "code",
   "execution_count": 234,
   "id": "c04ff2d4-f60f-4302-921f-20683f93a06e",
   "metadata": {},
   "outputs": [],
   "source": [
    "# get reviews from common movies\n",
    "def get_reviews(user_A, user_B):\n",
    "    common_movies = get_common_movies(user_A, user_B)\n",
    "    return [(profiles[user_A][movie], profiles[user_B][movie]) for movie in common_movies]"
   ]
  },
  {
   "cell_type": "code",
   "execution_count": 235,
   "id": "af935f6e-37c2-4ac5-845a-a7b9c7a9d0b4",
   "metadata": {},
   "outputs": [
    {
     "data": {
      "text/plain": [
       "[(4.0, 4.0),\n",
       " (4.5, 5.0),\n",
       " (4.0, 5.0),\n",
       " (5.0, 5.0),\n",
       " (5.0, 5.0),\n",
       " (5.0, 5.0),\n",
       " (4.5, 5.0),\n",
       " (5.0, 5.0),\n",
       " (5.0, 5.0),\n",
       " (5.0, 4.0),\n",
       " (5.0, 4.0),\n",
       " (4.5, 4.0),\n",
       " (4.0, 4.0),\n",
       " (3.5, 4.0),\n",
       " (4.5, 3.0),\n",
       " (4.0, 4.0),\n",
       " (4.0, 4.0),\n",
       " (3.5, 4.0),\n",
       " (4.0, 4.0),\n",
       " (4.5, 4.0)]"
      ]
     },
     "execution_count": 235,
     "metadata": {},
     "output_type": "execute_result"
    }
   ],
   "source": [
    "get_reviews('user_70','user_391')"
   ]
  },
  {
   "cell_type": "code",
   "execution_count": 236,
   "id": "ebca4655-c442-4f8a-befb-69a41587d1e5",
   "metadata": {},
   "outputs": [],
   "source": [
    "# get reviews from common movies\n",
    "def get_reviews_detailed(user_A, user_B):\n",
    "    common_movies = get_common_movies(user_A, user_B)\n",
    "    reviews = [(profiles[user_A][movie], profiles[user_B][movie]) for movie in common_movies]\n",
    "    result = zip(common_movies, reviews)\n",
    "    return set(result)"
   ]
  },
  {
   "cell_type": "code",
   "execution_count": 237,
   "id": "8d13bf7b-0b36-4883-9ec9-26bc4f3e2a9c",
   "metadata": {},
   "outputs": [
    {
     "data": {
      "text/plain": [
       "{('American Beauty', (4.0, 4.0)),\n",
       " ('Apollo 13', (4.0, 4.0)),\n",
       " ('Back to the Future', (4.0, 4.0)),\n",
       " ('Beautiful Mind, A', (4.5, 4.0)),\n",
       " ('Breakfast Club, The', (4.0, 4.0)),\n",
       " ('Cinema Paradiso', (5.0, 5.0)),\n",
       " ('Dead Poets Society', (5.0, 4.0)),\n",
       " ('E.T. the Extra-Terrestrial', (4.5, 5.0)),\n",
       " (\"Ferris Bueller's Day Off\", (3.5, 4.0)),\n",
       " ('Forrest Gump', (4.0, 5.0)),\n",
       " ('Godfather, The', (5.0, 5.0)),\n",
       " ('Good Will Hunting', (4.5, 3.0)),\n",
       " (\"It's a Wonderful Life\", (5.0, 5.0)),\n",
       " (\"One Flew Over the Cuckoo's Nest\", (5.0, 5.0)),\n",
       " (\"Schindler's List\", (5.0, 5.0)),\n",
       " ('Shawshank Redemption, The', (4.5, 5.0)),\n",
       " ('Shrek', (4.0, 4.0)),\n",
       " ('Stand by Me', (4.5, 4.0)),\n",
       " ('Star Wars: Episode VI - Return of the Jedi', (5.0, 4.0)),\n",
       " ('Truman Show, The', (3.5, 4.0))}"
      ]
     },
     "execution_count": 237,
     "metadata": {},
     "output_type": "execute_result"
    }
   ],
   "source": [
    "get_reviews_detailed('user_70','user_391')"
   ]
  },
  {
   "cell_type": "code",
   "execution_count": 238,
   "id": "1454c7ea-c12e-4d30-a3ab-3eeb7790f8f0",
   "metadata": {},
   "outputs": [],
   "source": [
    "def euclidean_distance(points):\n",
    "    squared_diff = [(point[0] - point[1]) ** 2 for point in points]\n",
    "    summed_squared_diffs = sum(squared_diff)\n",
    "    distance = np.sqrt(summed_squared_diffs)\n",
    "    return distance"
   ]
  },
  {
   "cell_type": "code",
   "execution_count": 239,
   "id": "0c8ee6a4-8926-4221-a1dc-55e9424c454d",
   "metadata": {},
   "outputs": [],
   "source": [
    "def similarity(reviews):\n",
    "    return 1/(1+euclidean_distance(reviews))"
   ]
  },
  {
   "cell_type": "code",
   "execution_count": 240,
   "id": "9a9a3bb3-7aa7-48f1-96c0-976a094785a3",
   "metadata": {},
   "outputs": [],
   "source": [
    "def get_user_similarity(user_A, user_B):\n",
    "    reviews = get_reviews(user_A, user_B)\n",
    "    return similarity(reviews)"
   ]
  },
  {
   "cell_type": "code",
   "execution_count": 246,
   "id": "d8efd4c7-f1b3-475e-8958-2b9955d9e432",
   "metadata": {},
   "outputs": [
    {
     "data": {
      "text/plain": [
       "0.20521309615767264"
      ]
     },
     "execution_count": 246,
     "metadata": {},
     "output_type": "execute_result"
    }
   ],
   "source": [
    "get_user_similarity('user_162','user_197')"
   ]
  },
  {
   "cell_type": "code",
   "execution_count": 275,
   "id": "ca7a3e5f-eb62-4295-a3de-617143b91c22",
   "metadata": {},
   "outputs": [],
   "source": [
    "def recommend_movies(user, num_suggestions):\n",
    "    similarity_scores = [(get_user_similarity(user, other), other) for other in profiles if other != user]\n",
    "    # get sim scores for all users\n",
    "    similarity_scores.sort()\n",
    "    similarity_scores.reverse()\n",
    "    # similarity_scores = similarity_scores[0:num_suggestions]\n",
    "    \n",
    "    recommendations = {}\n",
    "    for similarity, other in similarity_scores:\n",
    "        reviewed = profiles[other]\n",
    "        for movie in reviewed:\n",
    "            if movie not in profiles[user]:\n",
    "                weight = similarity * reviewed[movie]\n",
    "                if movie in recommendations:\n",
    "                    sim, weights = recommendations[movie]\n",
    "                    recommendations[movie] = (sim + similarity, weights + [weight])\n",
    "                else:\n",
    "                    recommendations[movie] = (similarity, [weight])\n",
    "                    \n",
    "    for recommendation in recommendations:\n",
    "        similarity, movie = recommendations[recommendation]\n",
    "        recommendations[recommendation] = sum(movie) / similarity\n",
    "        \n",
    "    sorted_recommendations = sorted(recommendations.items(), key=operator.itemgetter(1), reverse=True)\n",
    "    return sorted_recommendations[:num_suggestions]"
   ]
  },
  {
   "cell_type": "code",
   "execution_count": 278,
   "id": "1d6874e6-8996-4a31-84f2-38facfc3c20c",
   "metadata": {},
   "outputs": [
    {
     "data": {
      "text/plain": [
       "[('Jonah Who Will Be 25 in the Year 2000', 5.000000000000001),\n",
       " ('Come and See', 5.000000000000001),\n",
       " ('Story of Women', 5.0),\n",
       " ('Passenger, The', 5.0),\n",
       " ('Marriage of Maria Braun, The', 5.0),\n",
       " ('61*', 5.0),\n",
       " ('Thin Line Between Love and Hate, A', 5.0),\n",
       " ('Animals are Beautiful People', 5.0),\n",
       " ('Woman Is a Woman, A', 5.0),\n",
       " ('Thousand Clowns, A', 5.0)]"
      ]
     },
     "execution_count": 278,
     "metadata": {},
     "output_type": "execute_result"
    }
   ],
   "source": [
    "recommend_movies('user_203', 10)"
   ]
  },
  {
   "cell_type": "code",
   "execution_count": 279,
   "id": "d03386c6-74f9-458b-932b-3cf36c2e3bf0",
   "metadata": {},
   "outputs": [
    {
     "data": {
      "text/plain": [
       "[('Particle Fever', 5.000000000000001),\n",
       " ('Heidi Fleiss: Hollywood Madam', 5.000000000000001),\n",
       " ('Lamerica', 5.0),\n",
       " ('Entertaining Angels: The Dorothy Day Story', 5.0),\n",
       " ('Story of Women', 5.0),\n",
       " ('Passenger, The', 5.0),\n",
       " ('Marriage of Maria Braun, The', 5.0),\n",
       " ('One I Love, The', 5.0),\n",
       " ('Laggies', 5.0),\n",
       " ('Delirium', 5.0)]"
      ]
     },
     "execution_count": 279,
     "metadata": {},
     "output_type": "execute_result"
    }
   ],
   "source": [
    "recommend_movies('user_120', 10)"
   ]
  },
  {
   "cell_type": "code",
   "execution_count": null,
   "id": "bb773aa8-293e-47c0-8cd2-7827e2cca337",
   "metadata": {},
   "outputs": [],
   "source": []
  }
 ],
 "metadata": {
  "kernelspec": {
   "display_name": "Python 3",
   "language": "python",
   "name": "python3"
  },
  "language_info": {
   "codemirror_mode": {
    "name": "ipython",
    "version": 3
   },
   "file_extension": ".py",
   "mimetype": "text/x-python",
   "name": "python",
   "nbconvert_exporter": "python",
   "pygments_lexer": "ipython3",
   "version": "3.8.8"
  }
 },
 "nbformat": 4,
 "nbformat_minor": 5
}
