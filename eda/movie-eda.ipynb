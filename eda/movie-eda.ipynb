{
 "cells": [
  {
   "cell_type": "markdown",
   "id": "82f945cd-b6d3-4c0d-bbf6-d43547c3b784",
   "metadata": {},
   "source": [
    "# BlockCluster EDA | Kyle McLester\n",
    "The data for this project is found on [Kaggle](https://www.kaggle.com/rounakbanik/the-movies-dataset). Our goal for this portion of the project is to perform a basic exploratory analysis of the data and report our findings"
   ]
  },
  {
   "cell_type": "markdown",
   "id": "2f6becc8-67aa-478b-8d43-fa12b26f9660",
   "metadata": {},
   "source": [
    "## Importing Dependencies"
   ]
  },
  {
   "cell_type": "code",
   "execution_count": 1,
   "id": "f62a867e-f20c-4c42-9f3f-e836026c782a",
   "metadata": {},
   "outputs": [],
   "source": [
    "from networkx.algorithms.distance_measures import radius\n",
    "import pandas as pd\n",
    "from sklearn.feature_extraction.text import TfidfVectorizer\n",
    "from sklearn.metrics.pairwise import cosine_similarity\n",
    "import re\n",
    "import operator\n",
    "import os\n",
    "import numpy as np\n",
    "from pathlib import Path\n",
    "import plotly.express as go\n",
    "from sklearn.preprocessing import LabelEncoder\n",
    "from sklearn.decomposition import PCA\n",
    "from sklearn.cluster import KMeans\n",
    "import matplotlib.pyplot as plt\n",
    "\n",
    "# set app threads to 16 (max of my system)\n",
    "os.environ[\"NUMEXPR_MAX_THREADS\"] = \"16\"\n",
    "os.environ[\"NUMEXPR_NUM_THREADS\"] = \"16\"\n",
    "pd.options.mode.chained_assignment = None\n",
    "# force matplotlib graphs to be same shape\n",
    "plt.rcParams.update({\"figure.autolayout\": True})"
   ]
  },
  {
   "cell_type": "markdown",
   "id": "90264d5e-354c-4cf8-9024-42e284423dfd",
   "metadata": {},
   "source": [
    "## Loading Data"
   ]
  },
  {
   "cell_type": "code",
   "execution_count": 2,
   "id": "e15bffbd-5562-43bf-a728-cd98468bc988",
   "metadata": {},
   "outputs": [],
   "source": [
    "links = pd.read_csv('data/movielens/100k/links.csv', sep=',', encoding='latin-1')\n",
    "movies = pd.read_csv('data/movielens/100k/movies.csv', sep=',', encoding='latin-1')\n",
    "ratings = pd.read_csv('data/movielens/100k/ratings.csv', sep=',', encoding='latin-1', usecols=['userId','movieId','rating'])\n",
    "tags = pd.read_csv('data/movielens/100k/tags.csv', sep=',', encoding='latin-1', usecols=['userId','movieId','tag'])"
   ]
  },
  {
   "cell_type": "markdown",
   "id": "ab395693-8075-4fec-a38b-76e39858a8b2",
   "metadata": {},
   "source": [
    "## Exploring Data"
   ]
  },
  {
   "cell_type": "code",
   "execution_count": 3,
   "id": "cd4f99b7-7d59-4a86-89b9-49b61515f7fb",
   "metadata": {},
   "outputs": [
    {
     "name": "stdout",
     "output_type": "stream",
     "text": [
      "***** COLUMN LABELS *****\n",
      "links: ['movieId', 'imdbId', 'tmdbId']\n",
      "movies: ['movieId', 'title', 'genres']\n",
      "ratings: ['userId', 'movieId', 'rating']\n",
      "tags: ['userId', 'movieId', 'tag']\n"
     ]
    }
   ],
   "source": [
    "print(5*'*'+' COLUMN LABELS '+5*'*')\n",
    "print('links: {}'.format(list(links.columns)))\n",
    "print('movies: {}'.format(list(movies.columns)))\n",
    "print('ratings: {}'.format(list(ratings.columns)))\n",
    "print('tags: {}'.format(list(tags.columns)))"
   ]
  },
  {
   "cell_type": "code",
   "execution_count": 4,
   "id": "78823b72-3a2b-4d7c-965d-4a3da8751ddf",
   "metadata": {},
   "outputs": [
    {
     "name": "stdout",
     "output_type": "stream",
     "text": [
      "***** DATA SHAPE *****\n",
      "links: (9742, 3)\n",
      "movies: (9742, 3)\n",
      "ratings: (100836, 3)\n",
      "tags: (3683, 3)\n"
     ]
    }
   ],
   "source": [
    "print(5*'*'+' DATA SHAPE '+5*'*')\n",
    "print('links: {}'.format(links.shape))\n",
    "print('movies: {}'.format(movies.shape))\n",
    "print('ratings: {}'.format(ratings.shape))\n",
    "print('tags: {}'.format(tags.shape))"
   ]
  },
  {
   "cell_type": "code",
   "execution_count": 5,
   "id": "fc1d49fd-099c-4708-867c-0e72fac80120",
   "metadata": {},
   "outputs": [
    {
     "name": "stdout",
     "output_type": "stream",
     "text": [
      "***** RATING SUMMARY STATS *****\n"
     ]
    },
    {
     "data": {
      "text/plain": [
       "count    100836.000000\n",
       "mean          3.501557\n",
       "std           1.042529\n",
       "min           0.500000\n",
       "25%           3.000000\n",
       "50%           3.500000\n",
       "75%           4.000000\n",
       "max           5.000000\n",
       "Name: rating, dtype: float64"
      ]
     },
     "execution_count": 5,
     "metadata": {},
     "output_type": "execute_result"
    }
   ],
   "source": [
    "print(5*'*'+' RATING SUMMARY STATS '+5*'*')\n",
    "ratings['rating'].describe()"
   ]
  },
  {
   "cell_type": "code",
   "execution_count": 5,
   "id": "1c47aebd-98a0-456e-8160-4c0ba1f4a5e8",
   "metadata": {},
   "outputs": [
    {
     "name": "stdout",
     "output_type": "stream",
     "text": [
      "***** NULL VALUE COUNTS *****\n",
      "links\n",
      "movieId    0\n",
      "imdbId     0\n",
      "tmdbId     8\n",
      "dtype: int64\n",
      "\n",
      "movies\n",
      "movieId    0\n",
      "title      0\n",
      "genres     0\n",
      "dtype: int64\n",
      "\n",
      "ratings\n",
      "userId     0\n",
      "movieId    0\n",
      "rating     0\n",
      "dtype: int64\n",
      "\n",
      "tags\n",
      "userId     0\n",
      "movieId    0\n",
      "tag        0\n",
      "dtype: int64\n",
      "\n"
     ]
    }
   ],
   "source": [
    "print(5*'*'+' NULL VALUE COUNTS '+5*'*')\n",
    "print('links\\n{}\\n'.format(links.isnull().sum()))\n",
    "print('movies\\n{}\\n'.format(movies.isnull().sum()))\n",
    "print('ratings\\n{}\\n'.format(ratings.isnull().sum()))\n",
    "print('tags\\n{}\\n'.format(tags.isnull().sum()))"
   ]
  },
  {
   "cell_type": "code",
   "execution_count": 6,
   "id": "12cf5f00-2d2b-49a4-970f-e71379559b68",
   "metadata": {},
   "outputs": [
    {
     "name": "stdout",
     "output_type": "stream",
     "text": [
      "***** REMOVE ROWS W/NULL VALUES *****\n"
     ]
    },
    {
     "data": {
      "text/plain": [
       "movieId    0\n",
       "imdbId     0\n",
       "tmdbId     0\n",
       "dtype: int64"
      ]
     },
     "execution_count": 6,
     "metadata": {},
     "output_type": "execute_result"
    }
   ],
   "source": [
    "print(5*'*'+' REMOVE ROWS W/NULL VALUES ' + 5*'*')\n",
    "links = links.dropna()\n",
    "links.isnull().sum()"
   ]
  },
  {
   "cell_type": "code",
   "execution_count": 7,
   "id": "e1927a17-f2db-4660-9c5c-744d19151159",
   "metadata": {},
   "outputs": [
    {
     "name": "stdout",
     "output_type": "stream",
     "text": [
      "***** FIRST 5 ROWS *****\n",
      "links\n",
      "   movieId  imdbId   tmdbId\n",
      "0        1  114709    862.0\n",
      "1        2  113497   8844.0\n",
      "2        3  113228  15602.0\n",
      "3        4  114885  31357.0\n",
      "4        5  113041  11862.0\n",
      "\n",
      "movies\n",
      "   movieId                               title  \\\n",
      "0        1                    Toy Story (1995)   \n",
      "1        2                      Jumanji (1995)   \n",
      "2        3             Grumpier Old Men (1995)   \n",
      "3        4            Waiting to Exhale (1995)   \n",
      "4        5  Father of the Bride Part II (1995)   \n",
      "\n",
      "                                        genres  \n",
      "0  Adventure|Animation|Children|Comedy|Fantasy  \n",
      "1                   Adventure|Children|Fantasy  \n",
      "2                               Comedy|Romance  \n",
      "3                         Comedy|Drama|Romance  \n",
      "4                                       Comedy  \n",
      "\n",
      "ratings\n",
      "   userId  movieId  rating\n",
      "0       1        1     4.0\n",
      "1       1        3     4.0\n",
      "2       1        6     4.0\n",
      "3       1       47     5.0\n",
      "4       1       50     5.0\n",
      "\n",
      "tags\n",
      "   userId  movieId              tag\n",
      "0       2    60756            funny\n",
      "1       2    60756  Highly quotable\n",
      "2       2    60756     will ferrell\n",
      "3       2    89774     Boxing story\n",
      "4       2    89774              MMA\n",
      "\n"
     ]
    }
   ],
   "source": [
    "print(5*'*'+' FIRST 5 ROWS '+5*'*')\n",
    "print('links\\n{}\\n'.format(links.head()))\n",
    "print('movies\\n{}\\n'.format(movies.head()))\n",
    "print('ratings\\n{}\\n'.format(ratings.head()))\n",
    "print('tags\\n{}\\n'.format(tags.head()))"
   ]
  },
  {
   "cell_type": "code",
   "execution_count": 8,
   "id": "bc156a01-5ec5-480e-945b-55a78467007c",
   "metadata": {},
   "outputs": [],
   "source": [
    "# break up movies['genre'] into a string\n",
    "movies['genres'] = movies['genres'].str.split('|')\n",
    "movies['genres'] = movies['genres'].fillna('').astype('str')"
   ]
  },
  {
   "cell_type": "code",
   "execution_count": 9,
   "id": "9b4e6d58-ae4e-47b7-8e2e-59b23568392b",
   "metadata": {},
   "outputs": [
    {
     "data": {
      "text/html": [
       "<div>\n",
       "<style scoped>\n",
       "    .dataframe tbody tr th:only-of-type {\n",
       "        vertical-align: middle;\n",
       "    }\n",
       "\n",
       "    .dataframe tbody tr th {\n",
       "        vertical-align: top;\n",
       "    }\n",
       "\n",
       "    .dataframe thead th {\n",
       "        text-align: right;\n",
       "    }\n",
       "</style>\n",
       "<table border=\"1\" class=\"dataframe\">\n",
       "  <thead>\n",
       "    <tr style=\"text-align: right;\">\n",
       "      <th></th>\n",
       "      <th>movieId</th>\n",
       "      <th>title</th>\n",
       "      <th>genres</th>\n",
       "    </tr>\n",
       "  </thead>\n",
       "  <tbody>\n",
       "    <tr>\n",
       "      <th>0</th>\n",
       "      <td>1</td>\n",
       "      <td>Toy Story (1995)</td>\n",
       "      <td>['Adventure', 'Animation', 'Children', 'Comedy...</td>\n",
       "    </tr>\n",
       "    <tr>\n",
       "      <th>1</th>\n",
       "      <td>2</td>\n",
       "      <td>Jumanji (1995)</td>\n",
       "      <td>['Adventure', 'Children', 'Fantasy']</td>\n",
       "    </tr>\n",
       "    <tr>\n",
       "      <th>2</th>\n",
       "      <td>3</td>\n",
       "      <td>Grumpier Old Men (1995)</td>\n",
       "      <td>['Comedy', 'Romance']</td>\n",
       "    </tr>\n",
       "    <tr>\n",
       "      <th>3</th>\n",
       "      <td>4</td>\n",
       "      <td>Waiting to Exhale (1995)</td>\n",
       "      <td>['Comedy', 'Drama', 'Romance']</td>\n",
       "    </tr>\n",
       "    <tr>\n",
       "      <th>4</th>\n",
       "      <td>5</td>\n",
       "      <td>Father of the Bride Part II (1995)</td>\n",
       "      <td>['Comedy']</td>\n",
       "    </tr>\n",
       "  </tbody>\n",
       "</table>\n",
       "</div>"
      ],
      "text/plain": [
       "   movieId                               title  \\\n",
       "0        1                    Toy Story (1995)   \n",
       "1        2                      Jumanji (1995)   \n",
       "2        3             Grumpier Old Men (1995)   \n",
       "3        4            Waiting to Exhale (1995)   \n",
       "4        5  Father of the Bride Part II (1995)   \n",
       "\n",
       "                                              genres  \n",
       "0  ['Adventure', 'Animation', 'Children', 'Comedy...  \n",
       "1               ['Adventure', 'Children', 'Fantasy']  \n",
       "2                              ['Comedy', 'Romance']  \n",
       "3                     ['Comedy', 'Drama', 'Romance']  \n",
       "4                                         ['Comedy']  "
      ]
     },
     "execution_count": 9,
     "metadata": {},
     "output_type": "execute_result"
    }
   ],
   "source": [
    "movies.head()"
   ]
  },
  {
   "cell_type": "code",
   "execution_count": 10,
   "id": "158ac0ce-fe04-4745-bdfb-f4eec94855c5",
   "metadata": {},
   "outputs": [],
   "source": [
    "# extract year from title column\n",
    "movies['year'] = [re.search('(\\d){4}', x) for x in movies['title']]\n",
    "movies = movies.dropna()\n",
    "movies['year'] = [re.search('(\\d){4}', x).group() for x in movies['title']]\n",
    "movies = movies.replace(to_replace='\\((.*)\\)', value='', regex=True)\n",
    "movies = movies.replace(to_replace=' +$', value='', regex=True)\n",
    "movies['year'] = movies['year'].astype('int')"
   ]
  },
  {
   "cell_type": "code",
   "execution_count": 11,
   "id": "a0e1299b-c4f1-4d61-b9d1-f3f094c31f36",
   "metadata": {},
   "outputs": [
    {
     "data": {
      "text/html": [
       "<div>\n",
       "<style scoped>\n",
       "    .dataframe tbody tr th:only-of-type {\n",
       "        vertical-align: middle;\n",
       "    }\n",
       "\n",
       "    .dataframe tbody tr th {\n",
       "        vertical-align: top;\n",
       "    }\n",
       "\n",
       "    .dataframe thead th {\n",
       "        text-align: right;\n",
       "    }\n",
       "</style>\n",
       "<table border=\"1\" class=\"dataframe\">\n",
       "  <thead>\n",
       "    <tr style=\"text-align: right;\">\n",
       "      <th></th>\n",
       "      <th>movieId</th>\n",
       "      <th>title</th>\n",
       "      <th>genres</th>\n",
       "      <th>year</th>\n",
       "    </tr>\n",
       "  </thead>\n",
       "  <tbody>\n",
       "    <tr>\n",
       "      <th>0</th>\n",
       "      <td>1</td>\n",
       "      <td>Toy Story</td>\n",
       "      <td>['Adventure', 'Animation', 'Children', 'Comedy...</td>\n",
       "      <td>1995</td>\n",
       "    </tr>\n",
       "    <tr>\n",
       "      <th>1</th>\n",
       "      <td>2</td>\n",
       "      <td>Jumanji</td>\n",
       "      <td>['Adventure', 'Children', 'Fantasy']</td>\n",
       "      <td>1995</td>\n",
       "    </tr>\n",
       "    <tr>\n",
       "      <th>2</th>\n",
       "      <td>3</td>\n",
       "      <td>Grumpier Old Men</td>\n",
       "      <td>['Comedy', 'Romance']</td>\n",
       "      <td>1995</td>\n",
       "    </tr>\n",
       "    <tr>\n",
       "      <th>3</th>\n",
       "      <td>4</td>\n",
       "      <td>Waiting to Exhale</td>\n",
       "      <td>['Comedy', 'Drama', 'Romance']</td>\n",
       "      <td>1995</td>\n",
       "    </tr>\n",
       "    <tr>\n",
       "      <th>4</th>\n",
       "      <td>5</td>\n",
       "      <td>Father of the Bride Part II</td>\n",
       "      <td>['Comedy']</td>\n",
       "      <td>1995</td>\n",
       "    </tr>\n",
       "  </tbody>\n",
       "</table>\n",
       "</div>"
      ],
      "text/plain": [
       "   movieId                        title  \\\n",
       "0        1                    Toy Story   \n",
       "1        2                      Jumanji   \n",
       "2        3             Grumpier Old Men   \n",
       "3        4            Waiting to Exhale   \n",
       "4        5  Father of the Bride Part II   \n",
       "\n",
       "                                              genres  year  \n",
       "0  ['Adventure', 'Animation', 'Children', 'Comedy...  1995  \n",
       "1               ['Adventure', 'Children', 'Fantasy']  1995  \n",
       "2                              ['Comedy', 'Romance']  1995  \n",
       "3                     ['Comedy', 'Drama', 'Romance']  1995  \n",
       "4                                         ['Comedy']  1995  "
      ]
     },
     "execution_count": 11,
     "metadata": {},
     "output_type": "execute_result"
    }
   ],
   "source": [
    "movies.head()"
   ]
  },
  {
   "cell_type": "code",
   "execution_count": 12,
   "id": "a00f0330-df27-4214-bdba-71ec525fe5c1",
   "metadata": {},
   "outputs": [],
   "source": [
    "# remove title that were missing a year or are recorded after this study\n",
    "movies = movies[movies['year']<=2018]"
   ]
  },
  {
   "cell_type": "markdown",
   "id": "3b234f50-a658-4125-9529-5d92f9c2f33a",
   "metadata": {},
   "source": [
    "## Recommendation based on Genre"
   ]
  },
  {
   "cell_type": "code",
   "execution_count": 13,
   "id": "a75baa08-ec32-43eb-ae1e-07f0eb05fafd",
   "metadata": {},
   "outputs": [],
   "source": [
    "tf = TfidfVectorizer(analyzer='word',\n",
    "                     ngram_range=(1,2),\n",
    "                     min_df=0,\n",
    "                     stop_words='english')"
   ]
  },
  {
   "cell_type": "code",
   "execution_count": 14,
   "id": "2ef8b4d2-ab6c-4b2f-805f-5fa30809a935",
   "metadata": {},
   "outputs": [
    {
     "name": "stdout",
     "output_type": "stream",
     "text": [
      "tfidf_matrix\n",
      "shape: (9724, 174)\n"
     ]
    }
   ],
   "source": [
    "tfidf_matrix = tf.fit_transform(movies['genres'])\n",
    "print('tfidf_matrix\\nshape: {}'.format(tfidf_matrix.shape))"
   ]
  },
  {
   "cell_type": "code",
   "execution_count": 15,
   "id": "d1f5dfd5-0a70-48b9-b674-6a51ba752dfb",
   "metadata": {},
   "outputs": [
    {
     "data": {
      "text/plain": [
       "array([[1.        , 0.31378594, 0.06107542, 0.05268521],\n",
       "       [0.31378594, 1.        , 0.        , 0.        ],\n",
       "       [0.06107542, 0.        , 1.        , 0.3516825 ],\n",
       "       [0.05268521, 0.        , 0.3516825 , 1.        ]])"
      ]
     },
     "execution_count": 15,
     "metadata": {},
     "output_type": "execute_result"
    }
   ],
   "source": [
    "cosine_sim = cosine_similarity(tfidf_matrix, tfidf_matrix)\n",
    "cosine_sim[:4, :4]"
   ]
  },
  {
   "cell_type": "code",
   "execution_count": 16,
   "id": "b8258269-6284-4745-8e25-804d589c3d6f",
   "metadata": {},
   "outputs": [],
   "source": [
    "titles = movies['title']\n",
    "indices = pd.Series(movies.index, index=movies['title'])"
   ]
  },
  {
   "cell_type": "code",
   "execution_count": 17,
   "id": "13bb3568-43da-4e7e-8b53-6e811aab9a00",
   "metadata": {},
   "outputs": [],
   "source": [
    "def genre_recommendations(title, num_titles):\n",
    "    idx = indices[title]\n",
    "    sim_scores = list(enumerate(cosine_sim[idx]))\n",
    "    sim_scores = sorted(sim_scores, key=lambda x: x[1], reverse=True)\n",
    "    sim_scores = sim_scores[1:num_titles+1]\n",
    "    movie_indices = [i[0] for i in sim_scores]\n",
    "    return titles.iloc[movie_indices]"
   ]
  },
  {
   "cell_type": "code",
   "execution_count": 18,
   "id": "b52dcf72-fcf1-4f34-99c0-46279b4115d1",
   "metadata": {},
   "outputs": [
    {
     "data": {
      "text/plain": [
       "1516               Flight of the Navigator\n",
       "4274    Journey to the Center of the Earth\n",
       "5004                             Explorers\n",
       "5396                            D.A.R.Y.L.\n",
       "6436                       Last Mimzy, The\n",
       "6862                         City of Ember\n",
       "9016        Doctor Who: The Waters of Mars\n",
       "1506                       Black Hole, The\n",
       "1554            Return from Witch Mountain\n",
       "2803                            Titan A.E.\n",
       "Name: title, dtype: object"
      ]
     },
     "execution_count": 18,
     "metadata": {},
     "output_type": "execute_result"
    }
   ],
   "source": [
    "genre_recommendations('Tomb Raider', 10)"
   ]
  },
  {
   "cell_type": "code",
   "execution_count": 19,
   "id": "4e77843e-1eb3-4f21-9cd6-75d0106db0a8",
   "metadata": {},
   "outputs": [
    {
     "data": {
      "text/plain": [
       "2861                                        Space Cowboys\n",
       "3069                                           Innerspace\n",
       "3927                        Adventures of Pluto Nash, The\n",
       "5259                                Last Starfighter, The\n",
       "6754    Indiana Jones and the Kingdom of the Crystal S...\n",
       "7052                                     Land of the Lost\n",
       "8691                                             Deadpool\n",
       "9731                                              Gintama\n",
       "560                                            Barbarella\n",
       "969                                    Back to the Future\n",
       "Name: title, dtype: object"
      ]
     },
     "execution_count": 19,
     "metadata": {},
     "output_type": "execute_result"
    }
   ],
   "source": [
    "genre_recommendations('Ant-Man and the Wasp', 10)"
   ]
  },
  {
   "cell_type": "markdown",
   "id": "b2b2006a-55e3-4c67-9d56-7a3450ca3221",
   "metadata": {},
   "source": [
    "## Recommendation based on Title"
   ]
  },
  {
   "cell_type": "code",
   "execution_count": 24,
   "id": "446263fc-b4eb-41af-91a0-5cdfeadc9a43",
   "metadata": {},
   "outputs": [],
   "source": [
    "tf = TfidfVectorizer(analyzer='word',\n",
    "                     ngram_range=(1, 2),\n",
    "                     min_df=0,\n",
    "                     stop_words='english')"
   ]
  },
  {
   "cell_type": "code",
   "execution_count": 25,
   "id": "ed4e65ce-4d1a-4a56-868b-5c34c70874ee",
   "metadata": {},
   "outputs": [
    {
     "data": {
      "text/plain": [
       "(9724, 15855)"
      ]
     },
     "execution_count": 25,
     "metadata": {},
     "output_type": "execute_result"
    }
   ],
   "source": [
    "tfidf_matrix =tf.fit_transform(movies['title'])\n",
    "tfidf_matrix.shape"
   ]
  },
  {
   "cell_type": "code",
   "execution_count": 26,
   "id": "4f01db15-f854-42af-81b8-3b3345841b3c",
   "metadata": {},
   "outputs": [
    {
     "data": {
      "text/plain": [
       "array([[1., 0., 0., 0.],\n",
       "       [0., 1., 0., 0.],\n",
       "       [0., 0., 1., 0.],\n",
       "       [0., 0., 0., 1.]])"
      ]
     },
     "execution_count": 26,
     "metadata": {},
     "output_type": "execute_result"
    }
   ],
   "source": [
    "cosine_sim = cosine_similarity(tfidf_matrix, tfidf_matrix)\n",
    "cosine_sim[:4, :4]"
   ]
  },
  {
   "cell_type": "code",
   "execution_count": 27,
   "id": "7d59a4fd-5213-4720-8d22-5eacdc566670",
   "metadata": {},
   "outputs": [],
   "source": [
    "titles = movies['title']\n",
    "indices = pd.Series(movies.index, index=movies['title'])"
   ]
  },
  {
   "cell_type": "code",
   "execution_count": 28,
   "id": "f6ffaddc-6b7a-4521-a888-74522256d1ed",
   "metadata": {},
   "outputs": [],
   "source": [
    "def title_recommendations(title, num_titles):\n",
    "    idx = indices[title]\n",
    "    sim_scores = list(enumerate(cosine_sim[idx]))\n",
    "    sim_scores = sorted(sim_scores, key=lambda x: x[1], reverse=True)\n",
    "    sim_scores = sim_scores[1:num_titles+1]\n",
    "    movie_indices = [i[0] for i in sim_scores]\n",
    "    return titles.iloc[movie_indices]"
   ]
  },
  {
   "cell_type": "code",
   "execution_count": 29,
   "id": "a978462f-4775-45e9-8a65-8aa6be7ef360",
   "metadata": {},
   "outputs": [
    {
     "data": {
      "text/plain": [
       "9433                         Rogue One: A Star Wars Story\n",
       "567                                                  Solo\n",
       "6823                            Star Wars: The Clone Wars\n",
       "9645                             Star Wars: The Last Jedi\n",
       "8908                        The Star Wars Holiday Special\n",
       "7367    Empire of Dreams: The Story of the 'Star Wars'...\n",
       "1979            Star Wars: Episode I - The Phantom Menace\n",
       "898        Star Wars: Episode V - The Empire Strikes Back\n",
       "1570                                           L.A. Story\n",
       "2227                                     Story of Us, The\n",
       "Name: title, dtype: object"
      ]
     },
     "execution_count": 29,
     "metadata": {},
     "output_type": "execute_result"
    }
   ],
   "source": [
    "title_recommendations('Tomb Raider', 10)"
   ]
  },
  {
   "cell_type": "code",
   "execution_count": 28,
   "id": "57b7ff0a-3d0c-4f67-9714-c5621e273cfa",
   "metadata": {},
   "outputs": [
    {
     "data": {
      "text/plain": [
       "2355           Toy Story 2\n",
       "7355           Toy Story 3\n",
       "3595              Toy, The\n",
       "1570            L.A. Story\n",
       "2227      Story of Us, The\n",
       "4156       Story of O, The\n",
       "4089          Toy Soldiers\n",
       "3187            Love Story\n",
       "2110    Christmas Story, A\n",
       "4047           Ghost Story\n",
       "Name: title, dtype: object"
      ]
     },
     "execution_count": 28,
     "metadata": {},
     "output_type": "execute_result"
    }
   ],
   "source": [
    "title_recommendations('Toy Story', 10)"
   ]
  },
  {
   "cell_type": "markdown",
   "id": "23fcaa75-79fa-4b58-9f9b-5322f568771b",
   "metadata": {},
   "source": [
    "## Average Rating Given by Each User"
   ]
  },
  {
   "cell_type": "code",
   "execution_count": 30,
   "id": "4566fad3-99d5-4da6-9078-694f16e4b128",
   "metadata": {},
   "outputs": [],
   "source": [
    "merged_df = ratings.join(movies.set_index('movieId'), on='movieId')"
   ]
  },
  {
   "cell_type": "code",
   "execution_count": 31,
   "id": "bca90726-feff-49a9-bc97-c32710f7e531",
   "metadata": {},
   "outputs": [
    {
     "data": {
      "text/html": [
       "<div>\n",
       "<style scoped>\n",
       "    .dataframe tbody tr th:only-of-type {\n",
       "        vertical-align: middle;\n",
       "    }\n",
       "\n",
       "    .dataframe tbody tr th {\n",
       "        vertical-align: top;\n",
       "    }\n",
       "\n",
       "    .dataframe thead th {\n",
       "        text-align: right;\n",
       "    }\n",
       "</style>\n",
       "<table border=\"1\" class=\"dataframe\">\n",
       "  <thead>\n",
       "    <tr style=\"text-align: right;\">\n",
       "      <th></th>\n",
       "      <th>userId</th>\n",
       "      <th>movieId</th>\n",
       "      <th>rating</th>\n",
       "      <th>title</th>\n",
       "      <th>genres</th>\n",
       "      <th>year</th>\n",
       "    </tr>\n",
       "  </thead>\n",
       "  <tbody>\n",
       "    <tr>\n",
       "      <th>0</th>\n",
       "      <td>1</td>\n",
       "      <td>1</td>\n",
       "      <td>4.0</td>\n",
       "      <td>Toy Story</td>\n",
       "      <td>['Adventure', 'Animation', 'Children', 'Comedy...</td>\n",
       "      <td>1995.0</td>\n",
       "    </tr>\n",
       "    <tr>\n",
       "      <th>1</th>\n",
       "      <td>1</td>\n",
       "      <td>3</td>\n",
       "      <td>4.0</td>\n",
       "      <td>Grumpier Old Men</td>\n",
       "      <td>['Comedy', 'Romance']</td>\n",
       "      <td>1995.0</td>\n",
       "    </tr>\n",
       "    <tr>\n",
       "      <th>2</th>\n",
       "      <td>1</td>\n",
       "      <td>6</td>\n",
       "      <td>4.0</td>\n",
       "      <td>Heat</td>\n",
       "      <td>['Action', 'Crime', 'Thriller']</td>\n",
       "      <td>1995.0</td>\n",
       "    </tr>\n",
       "    <tr>\n",
       "      <th>3</th>\n",
       "      <td>1</td>\n",
       "      <td>47</td>\n",
       "      <td>5.0</td>\n",
       "      <td>Seven</td>\n",
       "      <td>['Mystery', 'Thriller']</td>\n",
       "      <td>1995.0</td>\n",
       "    </tr>\n",
       "    <tr>\n",
       "      <th>4</th>\n",
       "      <td>1</td>\n",
       "      <td>50</td>\n",
       "      <td>5.0</td>\n",
       "      <td>Usual Suspects, The</td>\n",
       "      <td>['Crime', 'Mystery', 'Thriller']</td>\n",
       "      <td>1995.0</td>\n",
       "    </tr>\n",
       "    <tr>\n",
       "      <th>...</th>\n",
       "      <td>...</td>\n",
       "      <td>...</td>\n",
       "      <td>...</td>\n",
       "      <td>...</td>\n",
       "      <td>...</td>\n",
       "      <td>...</td>\n",
       "    </tr>\n",
       "    <tr>\n",
       "      <th>227</th>\n",
       "      <td>1</td>\n",
       "      <td>3744</td>\n",
       "      <td>4.0</td>\n",
       "      <td>Shaft</td>\n",
       "      <td>['Action', 'Crime', 'Thriller']</td>\n",
       "      <td>2000.0</td>\n",
       "    </tr>\n",
       "    <tr>\n",
       "      <th>228</th>\n",
       "      <td>1</td>\n",
       "      <td>3793</td>\n",
       "      <td>5.0</td>\n",
       "      <td>X-Men</td>\n",
       "      <td>['Action', 'Adventure', 'Sci-Fi']</td>\n",
       "      <td>2000.0</td>\n",
       "    </tr>\n",
       "    <tr>\n",
       "      <th>229</th>\n",
       "      <td>1</td>\n",
       "      <td>3809</td>\n",
       "      <td>4.0</td>\n",
       "      <td>What About Bob?</td>\n",
       "      <td>['Comedy']</td>\n",
       "      <td>1991.0</td>\n",
       "    </tr>\n",
       "    <tr>\n",
       "      <th>230</th>\n",
       "      <td>1</td>\n",
       "      <td>4006</td>\n",
       "      <td>4.0</td>\n",
       "      <td>Transformers: The Movie</td>\n",
       "      <td>['Adventure', 'Animation', 'Children', 'Sci-Fi']</td>\n",
       "      <td>1986.0</td>\n",
       "    </tr>\n",
       "    <tr>\n",
       "      <th>231</th>\n",
       "      <td>1</td>\n",
       "      <td>5060</td>\n",
       "      <td>5.0</td>\n",
       "      <td>M*A*S*H</td>\n",
       "      <td>['Comedy', 'Drama', 'War']</td>\n",
       "      <td>1970.0</td>\n",
       "    </tr>\n",
       "  </tbody>\n",
       "</table>\n",
       "<p>232 rows × 6 columns</p>\n",
       "</div>"
      ],
      "text/plain": [
       "     userId  movieId  rating                    title  \\\n",
       "0         1        1     4.0                Toy Story   \n",
       "1         1        3     4.0         Grumpier Old Men   \n",
       "2         1        6     4.0                     Heat   \n",
       "3         1       47     5.0                    Seven   \n",
       "4         1       50     5.0      Usual Suspects, The   \n",
       "..      ...      ...     ...                      ...   \n",
       "227       1     3744     4.0                    Shaft   \n",
       "228       1     3793     5.0                    X-Men   \n",
       "229       1     3809     4.0          What About Bob?   \n",
       "230       1     4006     4.0  Transformers: The Movie   \n",
       "231       1     5060     5.0                  M*A*S*H   \n",
       "\n",
       "                                                genres    year  \n",
       "0    ['Adventure', 'Animation', 'Children', 'Comedy...  1995.0  \n",
       "1                                ['Comedy', 'Romance']  1995.0  \n",
       "2                      ['Action', 'Crime', 'Thriller']  1995.0  \n",
       "3                              ['Mystery', 'Thriller']  1995.0  \n",
       "4                     ['Crime', 'Mystery', 'Thriller']  1995.0  \n",
       "..                                                 ...     ...  \n",
       "227                    ['Action', 'Crime', 'Thriller']  2000.0  \n",
       "228                  ['Action', 'Adventure', 'Sci-Fi']  2000.0  \n",
       "229                                         ['Comedy']  1991.0  \n",
       "230   ['Adventure', 'Animation', 'Children', 'Sci-Fi']  1986.0  \n",
       "231                         ['Comedy', 'Drama', 'War']  1970.0  \n",
       "\n",
       "[232 rows x 6 columns]"
      ]
     },
     "execution_count": 31,
     "metadata": {},
     "output_type": "execute_result"
    }
   ],
   "source": [
    "merged_df[merged_df['userId']==1]"
   ]
  },
  {
   "cell_type": "code",
   "execution_count": 32,
   "id": "26f83cba-f3f8-4e82-89cc-a4e8215ee0fe",
   "metadata": {},
   "outputs": [],
   "source": [
    "user_avg_ratings = pd.DataFrame(columns=['userId','avg_rating'])\n",
    "userId = []\n",
    "avg_rating = []\n",
    "for user in merged_df['userId'].unique():\n",
    "    userId.append(user)\n",
    "    avg_rating.append(merged_df[merged_df['userId']==user]['rating'].sum()/len(merged_df[merged_df['userId']==user]))\n",
    "user_avg_ratings['userId'] = userId\n",
    "user_avg_ratings['avg_rating'] = avg_rating"
   ]
  },
  {
   "cell_type": "code",
   "execution_count": 33,
   "id": "22659c2b-a992-4d70-a720-87f6913a0639",
   "metadata": {},
   "outputs": [],
   "source": [
    "user_avg_ratings = user_avg_ratings.set_index('userId')"
   ]
  },
  {
   "cell_type": "code",
   "execution_count": 34,
   "id": "f4529435-e968-4834-9611-60a29f50fefa",
   "metadata": {},
   "outputs": [
    {
     "data": {
      "text/html": [
       "<div>\n",
       "<style scoped>\n",
       "    .dataframe tbody tr th:only-of-type {\n",
       "        vertical-align: middle;\n",
       "    }\n",
       "\n",
       "    .dataframe tbody tr th {\n",
       "        vertical-align: top;\n",
       "    }\n",
       "\n",
       "    .dataframe thead th {\n",
       "        text-align: right;\n",
       "    }\n",
       "</style>\n",
       "<table border=\"1\" class=\"dataframe\">\n",
       "  <thead>\n",
       "    <tr style=\"text-align: right;\">\n",
       "      <th></th>\n",
       "      <th>avg_rating</th>\n",
       "    </tr>\n",
       "  </thead>\n",
       "  <tbody>\n",
       "    <tr>\n",
       "      <th>count</th>\n",
       "      <td>610.000000</td>\n",
       "    </tr>\n",
       "    <tr>\n",
       "      <th>mean</th>\n",
       "      <td>3.657222</td>\n",
       "    </tr>\n",
       "    <tr>\n",
       "      <th>std</th>\n",
       "      <td>0.480635</td>\n",
       "    </tr>\n",
       "    <tr>\n",
       "      <th>min</th>\n",
       "      <td>1.275000</td>\n",
       "    </tr>\n",
       "    <tr>\n",
       "      <th>25%</th>\n",
       "      <td>3.360000</td>\n",
       "    </tr>\n",
       "    <tr>\n",
       "      <th>50%</th>\n",
       "      <td>3.694385</td>\n",
       "    </tr>\n",
       "    <tr>\n",
       "      <th>75%</th>\n",
       "      <td>3.997500</td>\n",
       "    </tr>\n",
       "    <tr>\n",
       "      <th>max</th>\n",
       "      <td>5.000000</td>\n",
       "    </tr>\n",
       "  </tbody>\n",
       "</table>\n",
       "</div>"
      ],
      "text/plain": [
       "       avg_rating\n",
       "count  610.000000\n",
       "mean     3.657222\n",
       "std      0.480635\n",
       "min      1.275000\n",
       "25%      3.360000\n",
       "50%      3.694385\n",
       "75%      3.997500\n",
       "max      5.000000"
      ]
     },
     "execution_count": 34,
     "metadata": {},
     "output_type": "execute_result"
    }
   ],
   "source": [
    "user_avg_ratings.describe()"
   ]
  },
  {
   "cell_type": "code",
   "execution_count": 36,
   "id": "0447edad",
   "metadata": {},
   "outputs": [
    {
     "data": {
      "text/html": [
       "<div>\n",
       "<style scoped>\n",
       "    .dataframe tbody tr th:only-of-type {\n",
       "        vertical-align: middle;\n",
       "    }\n",
       "\n",
       "    .dataframe tbody tr th {\n",
       "        vertical-align: top;\n",
       "    }\n",
       "\n",
       "    .dataframe thead th {\n",
       "        text-align: right;\n",
       "    }\n",
       "</style>\n",
       "<table border=\"1\" class=\"dataframe\">\n",
       "  <thead>\n",
       "    <tr style=\"text-align: right;\">\n",
       "      <th></th>\n",
       "      <th>avg_rating</th>\n",
       "    </tr>\n",
       "    <tr>\n",
       "      <th>userId</th>\n",
       "      <th></th>\n",
       "    </tr>\n",
       "  </thead>\n",
       "  <tbody>\n",
       "    <tr>\n",
       "      <th>1</th>\n",
       "      <td>4.366379</td>\n",
       "    </tr>\n",
       "    <tr>\n",
       "      <th>2</th>\n",
       "      <td>3.948276</td>\n",
       "    </tr>\n",
       "    <tr>\n",
       "      <th>3</th>\n",
       "      <td>2.435897</td>\n",
       "    </tr>\n",
       "    <tr>\n",
       "      <th>4</th>\n",
       "      <td>3.555556</td>\n",
       "    </tr>\n",
       "    <tr>\n",
       "      <th>5</th>\n",
       "      <td>3.636364</td>\n",
       "    </tr>\n",
       "    <tr>\n",
       "      <th>...</th>\n",
       "      <td>...</td>\n",
       "    </tr>\n",
       "    <tr>\n",
       "      <th>606</th>\n",
       "      <td>3.657399</td>\n",
       "    </tr>\n",
       "    <tr>\n",
       "      <th>607</th>\n",
       "      <td>3.786096</td>\n",
       "    </tr>\n",
       "    <tr>\n",
       "      <th>608</th>\n",
       "      <td>3.134176</td>\n",
       "    </tr>\n",
       "    <tr>\n",
       "      <th>609</th>\n",
       "      <td>3.270270</td>\n",
       "    </tr>\n",
       "    <tr>\n",
       "      <th>610</th>\n",
       "      <td>3.688556</td>\n",
       "    </tr>\n",
       "  </tbody>\n",
       "</table>\n",
       "<p>610 rows × 1 columns</p>\n",
       "</div>"
      ],
      "text/plain": [
       "        avg_rating\n",
       "userId            \n",
       "1         4.366379\n",
       "2         3.948276\n",
       "3         2.435897\n",
       "4         3.555556\n",
       "5         3.636364\n",
       "...            ...\n",
       "606       3.657399\n",
       "607       3.786096\n",
       "608       3.134176\n",
       "609       3.270270\n",
       "610       3.688556\n",
       "\n",
       "[610 rows x 1 columns]"
      ]
     },
     "execution_count": 36,
     "metadata": {},
     "output_type": "execute_result"
    }
   ],
   "source": [
    "user_avg_ratings"
   ]
  },
  {
   "cell_type": "markdown",
   "id": "9a06aa9b-698f-4c44-89bf-442b4852e633",
   "metadata": {},
   "source": [
    "## Average Rating for Each Movie (Naive)"
   ]
  },
  {
   "cell_type": "code",
   "execution_count": 54,
   "id": "8a50d403-5e5c-4233-828b-7acd0dd6ea14",
   "metadata": {},
   "outputs": [],
   "source": [
    "avg_movie_ratings = pd.DataFrame(columns=['movieId','avg_rating'])\n",
    "movieId = []\n",
    "avg_rating = []\n",
    "vote_count = []\n",
    "for movie in merged_df['movieId'].unique():\n",
    "    movieId.append(movie)\n",
    "    avg_rating.append(merged_df[merged_df['movieId']==movie]['rating'].sum()/len(merged_df[merged_df['movieId']==movie]))\n",
    "    vote_count.append(merged_df[merged_df['movieId']==movie]['rating'].count())\n",
    "avg_movie_ratings['movieId'] = movieId\n",
    "avg_movie_ratings['avg_rating'] = avg_rating\n",
    "avg_movie_ratings['vote_count'] = vote_count"
   ]
  },
  {
   "cell_type": "code",
   "execution_count": 55,
   "id": "8991535b-9117-4433-b62c-cef93be4b89e",
   "metadata": {},
   "outputs": [],
   "source": [
    "avg_movie_ratings = avg_movie_ratings.join(movies.set_index('movieId'), on='movieId')\n",
    "avg_movie_ratings = avg_movie_ratings.drop(['genres','year'], axis=1)\n",
    "avg_movie_ratings = avg_movie_ratings.dropna()"
   ]
  },
  {
   "cell_type": "code",
   "execution_count": 61,
   "id": "01d2e300",
   "metadata": {},
   "outputs": [
    {
     "data": {
      "text/html": [
       "<div>\n",
       "<style scoped>\n",
       "    .dataframe tbody tr th:only-of-type {\n",
       "        vertical-align: middle;\n",
       "    }\n",
       "\n",
       "    .dataframe tbody tr th {\n",
       "        vertical-align: top;\n",
       "    }\n",
       "\n",
       "    .dataframe thead th {\n",
       "        text-align: right;\n",
       "    }\n",
       "</style>\n",
       "<table border=\"1\" class=\"dataframe\">\n",
       "  <thead>\n",
       "    <tr style=\"text-align: right;\">\n",
       "      <th></th>\n",
       "      <th>movieId</th>\n",
       "      <th>avg_rating</th>\n",
       "      <th>vote_count</th>\n",
       "      <th>title</th>\n",
       "    </tr>\n",
       "  </thead>\n",
       "  <tbody>\n",
       "    <tr>\n",
       "      <th>0</th>\n",
       "      <td>1</td>\n",
       "      <td>3.920930</td>\n",
       "      <td>215</td>\n",
       "      <td>Toy Story</td>\n",
       "    </tr>\n",
       "    <tr>\n",
       "      <th>1</th>\n",
       "      <td>3</td>\n",
       "      <td>3.259615</td>\n",
       "      <td>52</td>\n",
       "      <td>Grumpier Old Men</td>\n",
       "    </tr>\n",
       "    <tr>\n",
       "      <th>2</th>\n",
       "      <td>6</td>\n",
       "      <td>3.946078</td>\n",
       "      <td>102</td>\n",
       "      <td>Heat</td>\n",
       "    </tr>\n",
       "    <tr>\n",
       "      <th>3</th>\n",
       "      <td>47</td>\n",
       "      <td>3.975369</td>\n",
       "      <td>203</td>\n",
       "      <td>Seven</td>\n",
       "    </tr>\n",
       "    <tr>\n",
       "      <th>4</th>\n",
       "      <td>50</td>\n",
       "      <td>4.237745</td>\n",
       "      <td>204</td>\n",
       "      <td>Usual Suspects, The</td>\n",
       "    </tr>\n",
       "  </tbody>\n",
       "</table>\n",
       "</div>"
      ],
      "text/plain": [
       "   movieId  avg_rating  vote_count                title\n",
       "0        1    3.920930         215            Toy Story\n",
       "1        3    3.259615          52     Grumpier Old Men\n",
       "2        6    3.946078         102                 Heat\n",
       "3       47    3.975369         203                Seven\n",
       "4       50    4.237745         204  Usual Suspects, The"
      ]
     },
     "execution_count": 61,
     "metadata": {},
     "output_type": "execute_result"
    }
   ],
   "source": [
    "avg_movie_ratings.head()"
   ]
  },
  {
   "cell_type": "code",
   "execution_count": 56,
   "id": "e931da7b-2364-4b03-8515-555f81053ac0",
   "metadata": {},
   "outputs": [
    {
     "data": {
      "text/html": [
       "<div>\n",
       "<style scoped>\n",
       "    .dataframe tbody tr th:only-of-type {\n",
       "        vertical-align: middle;\n",
       "    }\n",
       "\n",
       "    .dataframe tbody tr th {\n",
       "        vertical-align: top;\n",
       "    }\n",
       "\n",
       "    .dataframe thead th {\n",
       "        text-align: right;\n",
       "    }\n",
       "</style>\n",
       "<table border=\"1\" class=\"dataframe\">\n",
       "  <thead>\n",
       "    <tr style=\"text-align: right;\">\n",
       "      <th></th>\n",
       "      <th>movieId</th>\n",
       "      <th>avg_rating</th>\n",
       "      <th>vote_count</th>\n",
       "      <th>title</th>\n",
       "    </tr>\n",
       "  </thead>\n",
       "  <tbody>\n",
       "    <tr>\n",
       "      <th>8941</th>\n",
       "      <td>7114</td>\n",
       "      <td>0.5</td>\n",
       "      <td>1</td>\n",
       "      <td>Collector, The</td>\n",
       "    </tr>\n",
       "    <tr>\n",
       "      <th>8859</th>\n",
       "      <td>122246</td>\n",
       "      <td>0.5</td>\n",
       "      <td>1</td>\n",
       "      <td>Tooth Fairy 2</td>\n",
       "    </tr>\n",
       "    <tr>\n",
       "      <th>8531</th>\n",
       "      <td>8632</td>\n",
       "      <td>0.5</td>\n",
       "      <td>1</td>\n",
       "      <td>Secret Society</td>\n",
       "    </tr>\n",
       "    <tr>\n",
       "      <th>7822</th>\n",
       "      <td>82095</td>\n",
       "      <td>0.5</td>\n",
       "      <td>1</td>\n",
       "      <td>Skyline</td>\n",
       "    </tr>\n",
       "    <tr>\n",
       "      <th>9298</th>\n",
       "      <td>136297</td>\n",
       "      <td>0.5</td>\n",
       "      <td>1</td>\n",
       "      <td>Mortal Kombat: The Journey Begins</td>\n",
       "    </tr>\n",
       "    <tr>\n",
       "      <th>6513</th>\n",
       "      <td>54934</td>\n",
       "      <td>0.5</td>\n",
       "      <td>1</td>\n",
       "      <td>Brothers Solomon, The</td>\n",
       "    </tr>\n",
       "    <tr>\n",
       "      <th>6518</th>\n",
       "      <td>67799</td>\n",
       "      <td>0.5</td>\n",
       "      <td>1</td>\n",
       "      <td>The Butterfly Effect 3: Revelations</td>\n",
       "    </tr>\n",
       "    <tr>\n",
       "      <th>9610</th>\n",
       "      <td>61818</td>\n",
       "      <td>0.5</td>\n",
       "      <td>1</td>\n",
       "      <td>Crow, The: Wicked Prayer</td>\n",
       "    </tr>\n",
       "    <tr>\n",
       "      <th>6535</th>\n",
       "      <td>134528</td>\n",
       "      <td>0.5</td>\n",
       "      <td>1</td>\n",
       "      <td>Aloha</td>\n",
       "    </tr>\n",
       "    <tr>\n",
       "      <th>6539</th>\n",
       "      <td>138798</td>\n",
       "      <td>0.5</td>\n",
       "      <td>1</td>\n",
       "      <td>Joe Dirt 2: Beautiful Loser</td>\n",
       "    </tr>\n",
       "  </tbody>\n",
       "</table>\n",
       "</div>"
      ],
      "text/plain": [
       "      movieId  avg_rating  vote_count                                title\n",
       "8941     7114         0.5           1                       Collector, The\n",
       "8859   122246         0.5           1                        Tooth Fairy 2\n",
       "8531     8632         0.5           1                       Secret Society\n",
       "7822    82095         0.5           1                              Skyline\n",
       "9298   136297         0.5           1    Mortal Kombat: The Journey Begins\n",
       "6513    54934         0.5           1                Brothers Solomon, The\n",
       "6518    67799         0.5           1  The Butterfly Effect 3: Revelations\n",
       "9610    61818         0.5           1             Crow, The: Wicked Prayer\n",
       "6535   134528         0.5           1                                Aloha\n",
       "6539   138798         0.5           1          Joe Dirt 2: Beautiful Loser"
      ]
     },
     "execution_count": 56,
     "metadata": {},
     "output_type": "execute_result"
    }
   ],
   "source": [
    "# 10 lowest rated movies\n",
    "avg_movie_ratings.sort_values(by=['avg_rating'])[:10]"
   ]
  },
  {
   "cell_type": "code",
   "execution_count": 57,
   "id": "1b5da58f-e06f-4133-94b7-790bfa9e1a20",
   "metadata": {},
   "outputs": [
    {
     "data": {
      "text/html": [
       "<div>\n",
       "<style scoped>\n",
       "    .dataframe tbody tr th:only-of-type {\n",
       "        vertical-align: middle;\n",
       "    }\n",
       "\n",
       "    .dataframe tbody tr th {\n",
       "        vertical-align: top;\n",
       "    }\n",
       "\n",
       "    .dataframe thead th {\n",
       "        text-align: right;\n",
       "    }\n",
       "</style>\n",
       "<table border=\"1\" class=\"dataframe\">\n",
       "  <thead>\n",
       "    <tr style=\"text-align: right;\">\n",
       "      <th></th>\n",
       "      <th>movieId</th>\n",
       "      <th>avg_rating</th>\n",
       "      <th>vote_count</th>\n",
       "      <th>title</th>\n",
       "    </tr>\n",
       "  </thead>\n",
       "  <tbody>\n",
       "    <tr>\n",
       "      <th>4275</th>\n",
       "      <td>4788</td>\n",
       "      <td>5.0</td>\n",
       "      <td>1</td>\n",
       "      <td>Moscow Does Not Believe in Tears</td>\n",
       "    </tr>\n",
       "    <tr>\n",
       "      <th>8685</th>\n",
       "      <td>120130</td>\n",
       "      <td>5.0</td>\n",
       "      <td>1</td>\n",
       "      <td>Into the Forest of Fireflies' Light</td>\n",
       "    </tr>\n",
       "    <tr>\n",
       "      <th>7102</th>\n",
       "      <td>6021</td>\n",
       "      <td>5.0</td>\n",
       "      <td>1</td>\n",
       "      <td>American Friend, The</td>\n",
       "    </tr>\n",
       "    <tr>\n",
       "      <th>5572</th>\n",
       "      <td>5607</td>\n",
       "      <td>5.0</td>\n",
       "      <td>1</td>\n",
       "      <td>Son of the Bride</td>\n",
       "    </tr>\n",
       "    <tr>\n",
       "      <th>4277</th>\n",
       "      <td>5888</td>\n",
       "      <td>5.0</td>\n",
       "      <td>1</td>\n",
       "      <td>Brother</td>\n",
       "    </tr>\n",
       "    <tr>\n",
       "      <th>8557</th>\n",
       "      <td>71268</td>\n",
       "      <td>5.0</td>\n",
       "      <td>1</td>\n",
       "      <td>Tyler Perry's I Can Do Bad All by Myself</td>\n",
       "    </tr>\n",
       "    <tr>\n",
       "      <th>8558</th>\n",
       "      <td>93320</td>\n",
       "      <td>5.0</td>\n",
       "      <td>1</td>\n",
       "      <td>Trailer Park Boys</td>\n",
       "    </tr>\n",
       "    <tr>\n",
       "      <th>4278</th>\n",
       "      <td>5889</td>\n",
       "      <td>5.0</td>\n",
       "      <td>1</td>\n",
       "      <td>Cruel Romance, A</td>\n",
       "    </tr>\n",
       "    <tr>\n",
       "      <th>8580</th>\n",
       "      <td>467</td>\n",
       "      <td>5.0</td>\n",
       "      <td>1</td>\n",
       "      <td>Live Nude Girls</td>\n",
       "    </tr>\n",
       "    <tr>\n",
       "      <th>8581</th>\n",
       "      <td>876</td>\n",
       "      <td>5.0</td>\n",
       "      <td>1</td>\n",
       "      <td>Supercop 2</td>\n",
       "    </tr>\n",
       "  </tbody>\n",
       "</table>\n",
       "</div>"
      ],
      "text/plain": [
       "      movieId  avg_rating  vote_count  \\\n",
       "4275     4788         5.0           1   \n",
       "8685   120130         5.0           1   \n",
       "7102     6021         5.0           1   \n",
       "5572     5607         5.0           1   \n",
       "4277     5888         5.0           1   \n",
       "8557    71268         5.0           1   \n",
       "8558    93320         5.0           1   \n",
       "4278     5889         5.0           1   \n",
       "8580      467         5.0           1   \n",
       "8581      876         5.0           1   \n",
       "\n",
       "                                         title  \n",
       "4275          Moscow Does Not Believe in Tears  \n",
       "8685       Into the Forest of Fireflies' Light  \n",
       "7102                      American Friend, The  \n",
       "5572                          Son of the Bride  \n",
       "4277                                   Brother  \n",
       "8557  Tyler Perry's I Can Do Bad All by Myself  \n",
       "8558                         Trailer Park Boys  \n",
       "4278                          Cruel Romance, A  \n",
       "8580                           Live Nude Girls  \n",
       "8581                                Supercop 2  "
      ]
     },
     "execution_count": 57,
     "metadata": {},
     "output_type": "execute_result"
    }
   ],
   "source": [
    "# 10 highest rated movies\n",
    "avg_movie_ratings.sort_values(by=['avg_rating'], ascending=False)[:10]"
   ]
  },
  {
   "cell_type": "code",
   "execution_count": 62,
   "id": "3d37533c-4c13-43f6-9b76-58423b469056",
   "metadata": {},
   "outputs": [
    {
     "data": {
      "text/plain": [
       "count    9706.000000\n",
       "mean        3.261957\n",
       "std         0.869360\n",
       "min         0.500000\n",
       "25%         2.800000\n",
       "50%         3.416667\n",
       "75%         3.909773\n",
       "max         5.000000\n",
       "Name: avg_rating, dtype: float64"
      ]
     },
     "execution_count": 62,
     "metadata": {},
     "output_type": "execute_result"
    }
   ],
   "source": [
    "avg_movie_ratings['avg_rating'].describe()"
   ]
  },
  {
   "cell_type": "markdown",
   "id": "a808cda5",
   "metadata": {},
   "source": [
    "## IMDB Weighted Rating"
   ]
  },
  {
   "cell_type": "code",
   "execution_count": 66,
   "id": "31b7696e",
   "metadata": {},
   "outputs": [],
   "source": [
    "C = avg_movie_ratings['avg_rating'].mean()\n",
    "m = avg_movie_ratings['vote_count'].quantile(0.9)\n",
    "avg_copy = avg_movie_ratings.copy().loc[avg_movie_ratings['vote_count']>=m]"
   ]
  },
  {
   "cell_type": "code",
   "execution_count": 67,
   "id": "ac40f3f9",
   "metadata": {},
   "outputs": [
    {
     "data": {
      "text/html": [
       "<div>\n",
       "<style scoped>\n",
       "    .dataframe tbody tr th:only-of-type {\n",
       "        vertical-align: middle;\n",
       "    }\n",
       "\n",
       "    .dataframe tbody tr th {\n",
       "        vertical-align: top;\n",
       "    }\n",
       "\n",
       "    .dataframe thead th {\n",
       "        text-align: right;\n",
       "    }\n",
       "</style>\n",
       "<table border=\"1\" class=\"dataframe\">\n",
       "  <thead>\n",
       "    <tr style=\"text-align: right;\">\n",
       "      <th></th>\n",
       "      <th>movieId</th>\n",
       "      <th>avg_rating</th>\n",
       "      <th>vote_count</th>\n",
       "      <th>title</th>\n",
       "    </tr>\n",
       "  </thead>\n",
       "  <tbody>\n",
       "    <tr>\n",
       "      <th>0</th>\n",
       "      <td>1</td>\n",
       "      <td>3.920930</td>\n",
       "      <td>215</td>\n",
       "      <td>Toy Story</td>\n",
       "    </tr>\n",
       "    <tr>\n",
       "      <th>1</th>\n",
       "      <td>3</td>\n",
       "      <td>3.259615</td>\n",
       "      <td>52</td>\n",
       "      <td>Grumpier Old Men</td>\n",
       "    </tr>\n",
       "    <tr>\n",
       "      <th>2</th>\n",
       "      <td>6</td>\n",
       "      <td>3.946078</td>\n",
       "      <td>102</td>\n",
       "      <td>Heat</td>\n",
       "    </tr>\n",
       "    <tr>\n",
       "      <th>3</th>\n",
       "      <td>47</td>\n",
       "      <td>3.975369</td>\n",
       "      <td>203</td>\n",
       "      <td>Seven</td>\n",
       "    </tr>\n",
       "    <tr>\n",
       "      <th>4</th>\n",
       "      <td>50</td>\n",
       "      <td>4.237745</td>\n",
       "      <td>204</td>\n",
       "      <td>Usual Suspects, The</td>\n",
       "    </tr>\n",
       "    <tr>\n",
       "      <th>...</th>\n",
       "      <td>...</td>\n",
       "      <td>...</td>\n",
       "      <td>...</td>\n",
       "      <td>...</td>\n",
       "    </tr>\n",
       "    <tr>\n",
       "      <th>3350</th>\n",
       "      <td>8807</td>\n",
       "      <td>3.455882</td>\n",
       "      <td>34</td>\n",
       "      <td>Harold and Kumar Go to White Castle</td>\n",
       "    </tr>\n",
       "    <tr>\n",
       "      <th>3384</th>\n",
       "      <td>45720</td>\n",
       "      <td>3.558824</td>\n",
       "      <td>34</td>\n",
       "      <td>Devil Wears Prada, The</td>\n",
       "    </tr>\n",
       "    <tr>\n",
       "      <th>3490</th>\n",
       "      <td>94959</td>\n",
       "      <td>3.775862</td>\n",
       "      <td>29</td>\n",
       "      <td>Moonrise Kingdom</td>\n",
       "    </tr>\n",
       "    <tr>\n",
       "      <th>3498</th>\n",
       "      <td>1172</td>\n",
       "      <td>4.161765</td>\n",
       "      <td>34</td>\n",
       "      <td>Cinema Paradiso</td>\n",
       "    </tr>\n",
       "    <tr>\n",
       "      <th>3641</th>\n",
       "      <td>2384</td>\n",
       "      <td>2.775862</td>\n",
       "      <td>29</td>\n",
       "      <td>Babe: Pig in the City</td>\n",
       "    </tr>\n",
       "  </tbody>\n",
       "</table>\n",
       "<p>975 rows × 4 columns</p>\n",
       "</div>"
      ],
      "text/plain": [
       "      movieId  avg_rating  vote_count                                title\n",
       "0           1    3.920930         215                            Toy Story\n",
       "1           3    3.259615          52                     Grumpier Old Men\n",
       "2           6    3.946078         102                                 Heat\n",
       "3          47    3.975369         203                                Seven\n",
       "4          50    4.237745         204                  Usual Suspects, The\n",
       "...       ...         ...         ...                                  ...\n",
       "3350     8807    3.455882          34  Harold and Kumar Go to White Castle\n",
       "3384    45720    3.558824          34               Devil Wears Prada, The\n",
       "3490    94959    3.775862          29                     Moonrise Kingdom\n",
       "3498     1172    4.161765          34                      Cinema Paradiso\n",
       "3641     2384    2.775862          29                Babe: Pig in the City\n",
       "\n",
       "[975 rows x 4 columns]"
      ]
     },
     "execution_count": 67,
     "metadata": {},
     "output_type": "execute_result"
    }
   ],
   "source": [
    "avg_copy"
   ]
  },
  {
   "cell_type": "code",
   "execution_count": 68,
   "id": "f46cae6c",
   "metadata": {},
   "outputs": [],
   "source": [
    "def weighted_rating(x, m=m, C=C):\n",
    "    v = x['vote_count']\n",
    "    R = x['avg_rating']\n",
    "    return (v/(v+m)*R) + (m/(m/v)*C)"
   ]
  },
  {
   "cell_type": "code",
   "execution_count": 69,
   "id": "a843a7b3",
   "metadata": {},
   "outputs": [],
   "source": [
    "avg_copy['score'] = avg_copy.apply(weighted_rating, axis=1)"
   ]
  },
  {
   "cell_type": "code",
   "execution_count": 71,
   "id": "a14d144e",
   "metadata": {},
   "outputs": [
    {
     "data": {
      "text/html": [
       "<div>\n",
       "<style scoped>\n",
       "    .dataframe tbody tr th:only-of-type {\n",
       "        vertical-align: middle;\n",
       "    }\n",
       "\n",
       "    .dataframe tbody tr th {\n",
       "        vertical-align: top;\n",
       "    }\n",
       "\n",
       "    .dataframe thead th {\n",
       "        text-align: right;\n",
       "    }\n",
       "</style>\n",
       "<table border=\"1\" class=\"dataframe\">\n",
       "  <thead>\n",
       "    <tr style=\"text-align: right;\">\n",
       "      <th></th>\n",
       "      <th>movieId</th>\n",
       "      <th>avg_rating</th>\n",
       "      <th>vote_count</th>\n",
       "      <th>title</th>\n",
       "      <th>score</th>\n",
       "    </tr>\n",
       "  </thead>\n",
       "  <tbody>\n",
       "    <tr>\n",
       "      <th>0</th>\n",
       "      <td>1</td>\n",
       "      <td>3.920930</td>\n",
       "      <td>215</td>\n",
       "      <td>Toy Story</td>\n",
       "      <td>704.804189</td>\n",
       "    </tr>\n",
       "    <tr>\n",
       "      <th>1</th>\n",
       "      <td>3</td>\n",
       "      <td>3.259615</td>\n",
       "      <td>52</td>\n",
       "      <td>Grumpier Old Men</td>\n",
       "      <td>171.767325</td>\n",
       "    </tr>\n",
       "    <tr>\n",
       "      <th>2</th>\n",
       "      <td>6</td>\n",
       "      <td>3.946078</td>\n",
       "      <td>102</td>\n",
       "      <td>Heat</td>\n",
       "      <td>335.839752</td>\n",
       "    </tr>\n",
       "    <tr>\n",
       "      <th>3</th>\n",
       "      <td>47</td>\n",
       "      <td>3.975369</td>\n",
       "      <td>203</td>\n",
       "      <td>Seven</td>\n",
       "      <td>665.685932</td>\n",
       "    </tr>\n",
       "    <tr>\n",
       "      <th>4</th>\n",
       "      <td>50</td>\n",
       "      <td>4.237745</td>\n",
       "      <td>204</td>\n",
       "      <td>Usual Suspects, The</td>\n",
       "      <td>669.181617</td>\n",
       "    </tr>\n",
       "  </tbody>\n",
       "</table>\n",
       "</div>"
      ],
      "text/plain": [
       "   movieId  avg_rating  vote_count                title       score\n",
       "0        1    3.920930         215            Toy Story  704.804189\n",
       "1        3    3.259615          52     Grumpier Old Men  171.767325\n",
       "2        6    3.946078         102                 Heat  335.839752\n",
       "3       47    3.975369         203                Seven  665.685932\n",
       "4       50    4.237745         204  Usual Suspects, The  669.181617"
      ]
     },
     "execution_count": 71,
     "metadata": {},
     "output_type": "execute_result"
    }
   ],
   "source": [
    "avg_copy.head()"
   ]
  },
  {
   "cell_type": "code",
   "execution_count": 75,
   "id": "83e4edf7",
   "metadata": {},
   "outputs": [],
   "source": [
    "avg_copy.to_csv('weighted_ratings.csv',sep=',',encoding='utf-8', index=False)"
   ]
  },
  {
   "cell_type": "code",
   "execution_count": 72,
   "id": "ea3912b2",
   "metadata": {},
   "outputs": [
    {
     "data": {
      "text/html": [
       "<div>\n",
       "<style scoped>\n",
       "    .dataframe tbody tr th:only-of-type {\n",
       "        vertical-align: middle;\n",
       "    }\n",
       "\n",
       "    .dataframe tbody tr th {\n",
       "        vertical-align: top;\n",
       "    }\n",
       "\n",
       "    .dataframe thead th {\n",
       "        text-align: right;\n",
       "    }\n",
       "</style>\n",
       "<table border=\"1\" class=\"dataframe\">\n",
       "  <thead>\n",
       "    <tr style=\"text-align: right;\">\n",
       "      <th></th>\n",
       "      <th>movieId</th>\n",
       "      <th>avg_rating</th>\n",
       "      <th>vote_count</th>\n",
       "      <th>title</th>\n",
       "      <th>score</th>\n",
       "    </tr>\n",
       "  </thead>\n",
       "  <tbody>\n",
       "    <tr>\n",
       "      <th>20</th>\n",
       "      <td>356</td>\n",
       "      <td>4.164134</td>\n",
       "      <td>329</td>\n",
       "      <td>Forrest Gump</td>\n",
       "      <td>1077.032111</td>\n",
       "    </tr>\n",
       "    <tr>\n",
       "      <th>232</th>\n",
       "      <td>318</td>\n",
       "      <td>4.429022</td>\n",
       "      <td>317</td>\n",
       "      <td>Shawshank Redemption, The</td>\n",
       "      <td>1038.121710</td>\n",
       "    </tr>\n",
       "    <tr>\n",
       "      <th>16</th>\n",
       "      <td>296</td>\n",
       "      <td>4.197068</td>\n",
       "      <td>307</td>\n",
       "      <td>Pulp Fiction</td>\n",
       "      <td>1005.278531</td>\n",
       "    </tr>\n",
       "    <tr>\n",
       "      <th>34</th>\n",
       "      <td>593</td>\n",
       "      <td>4.161290</td>\n",
       "      <td>279</td>\n",
       "      <td>Silence of the Lambs, The</td>\n",
       "      <td>913.880073</td>\n",
       "    </tr>\n",
       "    <tr>\n",
       "      <th>166</th>\n",
       "      <td>2571</td>\n",
       "      <td>4.192446</td>\n",
       "      <td>278</td>\n",
       "      <td>Matrix, The</td>\n",
       "      <td>910.645310</td>\n",
       "    </tr>\n",
       "    <tr>\n",
       "      <th>15</th>\n",
       "      <td>260</td>\n",
       "      <td>4.231076</td>\n",
       "      <td>251</td>\n",
       "      <td>Star Wars: Episode IV - A New Hope</td>\n",
       "      <td>822.571308</td>\n",
       "    </tr>\n",
       "    <tr>\n",
       "      <th>26</th>\n",
       "      <td>480</td>\n",
       "      <td>3.750000</td>\n",
       "      <td>238</td>\n",
       "      <td>Jurassic Park</td>\n",
       "      <td>779.713650</td>\n",
       "    </tr>\n",
       "    <tr>\n",
       "      <th>7</th>\n",
       "      <td>110</td>\n",
       "      <td>4.031646</td>\n",
       "      <td>237</td>\n",
       "      <td>Braveheart</td>\n",
       "      <td>776.703087</td>\n",
       "    </tr>\n",
       "    <tr>\n",
       "      <th>478</th>\n",
       "      <td>589</td>\n",
       "      <td>3.970982</td>\n",
       "      <td>224</td>\n",
       "      <td>Terminator 2: Judgment Day</td>\n",
       "      <td>734.222154</td>\n",
       "    </tr>\n",
       "    <tr>\n",
       "      <th>28</th>\n",
       "      <td>527</td>\n",
       "      <td>4.225000</td>\n",
       "      <td>220</td>\n",
       "      <td>Schindler's List</td>\n",
       "      <td>721.393660</td>\n",
       "    </tr>\n",
       "    <tr>\n",
       "      <th>192</th>\n",
       "      <td>2959</td>\n",
       "      <td>4.272936</td>\n",
       "      <td>218</td>\n",
       "      <td>Fight Club</td>\n",
       "      <td>714.908629</td>\n",
       "    </tr>\n",
       "    <tr>\n",
       "      <th>0</th>\n",
       "      <td>1</td>\n",
       "      <td>3.920930</td>\n",
       "      <td>215</td>\n",
       "      <td>Toy Story</td>\n",
       "      <td>704.804189</td>\n",
       "    </tr>\n",
       "    <tr>\n",
       "      <th>68</th>\n",
       "      <td>1196</td>\n",
       "      <td>4.215640</td>\n",
       "      <td>211</td>\n",
       "      <td>Star Wars: Episode V - The Empire Strikes Back</td>\n",
       "      <td>692.010286</td>\n",
       "    </tr>\n",
       "    <tr>\n",
       "      <th>4</th>\n",
       "      <td>50</td>\n",
       "      <td>4.237745</td>\n",
       "      <td>204</td>\n",
       "      <td>Usual Suspects, The</td>\n",
       "      <td>669.181617</td>\n",
       "    </tr>\n",
       "    <tr>\n",
       "      <th>184</th>\n",
       "      <td>2858</td>\n",
       "      <td>4.056373</td>\n",
       "      <td>204</td>\n",
       "      <td>American Beauty</td>\n",
       "      <td>669.021444</td>\n",
       "    </tr>\n",
       "    <tr>\n",
       "      <th>3</th>\n",
       "      <td>47</td>\n",
       "      <td>3.975369</td>\n",
       "      <td>203</td>\n",
       "      <td>Seven</td>\n",
       "      <td>665.685932</td>\n",
       "    </tr>\n",
       "    <tr>\n",
       "      <th>42</th>\n",
       "      <td>780</td>\n",
       "      <td>3.445545</td>\n",
       "      <td>202</td>\n",
       "      <td>Independence Day</td>\n",
       "      <td>661.954581</td>\n",
       "    </tr>\n",
       "    <tr>\n",
       "      <th>463</th>\n",
       "      <td>150</td>\n",
       "      <td>3.845771</td>\n",
       "      <td>201</td>\n",
       "      <td>Apollo 13</td>\n",
       "      <td>659.043673</td>\n",
       "    </tr>\n",
       "    <tr>\n",
       "      <th>70</th>\n",
       "      <td>1198</td>\n",
       "      <td>4.207500</td>\n",
       "      <td>200</td>\n",
       "      <td>Raiders of the Lost Ark</td>\n",
       "      <td>656.098414</td>\n",
       "    </tr>\n",
       "    <tr>\n",
       "      <th>753</th>\n",
       "      <td>4993</td>\n",
       "      <td>4.106061</td>\n",
       "      <td>198</td>\n",
       "      <td>Lord of the Rings: The Fellowship of the Ring,...</td>\n",
       "      <td>649.480785</td>\n",
       "    </tr>\n",
       "  </tbody>\n",
       "</table>\n",
       "</div>"
      ],
      "text/plain": [
       "     movieId  avg_rating  vote_count  \\\n",
       "20       356    4.164134         329   \n",
       "232      318    4.429022         317   \n",
       "16       296    4.197068         307   \n",
       "34       593    4.161290         279   \n",
       "166     2571    4.192446         278   \n",
       "15       260    4.231076         251   \n",
       "26       480    3.750000         238   \n",
       "7        110    4.031646         237   \n",
       "478      589    3.970982         224   \n",
       "28       527    4.225000         220   \n",
       "192     2959    4.272936         218   \n",
       "0          1    3.920930         215   \n",
       "68      1196    4.215640         211   \n",
       "4         50    4.237745         204   \n",
       "184     2858    4.056373         204   \n",
       "3         47    3.975369         203   \n",
       "42       780    3.445545         202   \n",
       "463      150    3.845771         201   \n",
       "70      1198    4.207500         200   \n",
       "753     4993    4.106061         198   \n",
       "\n",
       "                                                 title        score  \n",
       "20                                        Forrest Gump  1077.032111  \n",
       "232                          Shawshank Redemption, The  1038.121710  \n",
       "16                                        Pulp Fiction  1005.278531  \n",
       "34                           Silence of the Lambs, The   913.880073  \n",
       "166                                        Matrix, The   910.645310  \n",
       "15                  Star Wars: Episode IV - A New Hope   822.571308  \n",
       "26                                       Jurassic Park   779.713650  \n",
       "7                                           Braveheart   776.703087  \n",
       "478                         Terminator 2: Judgment Day   734.222154  \n",
       "28                                    Schindler's List   721.393660  \n",
       "192                                         Fight Club   714.908629  \n",
       "0                                            Toy Story   704.804189  \n",
       "68      Star Wars: Episode V - The Empire Strikes Back   692.010286  \n",
       "4                                  Usual Suspects, The   669.181617  \n",
       "184                                    American Beauty   669.021444  \n",
       "3                                                Seven   665.685932  \n",
       "42                                    Independence Day   661.954581  \n",
       "463                                          Apollo 13   659.043673  \n",
       "70                             Raiders of the Lost Ark   656.098414  \n",
       "753  Lord of the Rings: The Fellowship of the Ring,...   649.480785  "
      ]
     },
     "execution_count": 72,
     "metadata": {},
     "output_type": "execute_result"
    }
   ],
   "source": [
    "avg_copy.sort_values(by='score',ascending=False, inplace=True)\n",
    "avg_copy.head(20)"
   ]
  },
  {
   "cell_type": "markdown",
   "id": "4c3bd3fc-d469-4497-81f5-cc866a9e92c9",
   "metadata": {},
   "source": [
    "## Creating User Profiles"
   ]
  },
  {
   "cell_type": "code",
   "execution_count": 76,
   "id": "d1bc2cf9-4ed3-4868-b6ff-1b6bbd52d7b4",
   "metadata": {
    "tags": []
   },
   "outputs": [],
   "source": [
    "profiles = {}\n",
    "\n",
    "for user in merged_df['userId'].unique():\n",
    "    username = 'user_' + str(user)\n",
    "    \n",
    "    temp = merged_df[merged_df['userId']==user]\n",
    "    \n",
    "    titles = temp['title']\n",
    "    ratings = temp['rating']\n",
    "    ratings = list(ratings)\n",
    "    \n",
    "    movie_list = {}\n",
    "    for i, title in enumerate(titles):\n",
    "        movie_list[title] = ratings[i]\n",
    "        \n",
    "    profiles[username] = movie_list"
   ]
  },
  {
   "cell_type": "code",
   "execution_count": 80,
   "id": "3cbeb34b",
   "metadata": {},
   "outputs": [],
   "source": [
    "import json"
   ]
  },
  {
   "cell_type": "code",
   "execution_count": 82,
   "id": "826dad94",
   "metadata": {},
   "outputs": [],
   "source": [
    "with open('profiles.json','w') as outfile:\n",
    "    json.dump(profiles, outfile,indent=4)"
   ]
  },
  {
   "cell_type": "code",
   "execution_count": 83,
   "id": "b73ac892-3aa8-4a2e-90ea-60b23483dd7a",
   "metadata": {},
   "outputs": [],
   "source": [
    "def get_common_movies(user_A, user_B):\n",
    "    return [movie for movie in profiles[user_A] if movie in profiles[user_B]]"
   ]
  },
  {
   "cell_type": "code",
   "execution_count": 84,
   "id": "e4419291-bdfb-4574-8845-2c580f4ad7f2",
   "metadata": {},
   "outputs": [
    {
     "data": {
      "text/plain": [
       "610"
      ]
     },
     "execution_count": 84,
     "metadata": {},
     "output_type": "execute_result"
    }
   ],
   "source": [
    "# number of available user profiles\n",
    "len(profiles)"
   ]
  },
  {
   "cell_type": "code",
   "execution_count": 85,
   "id": "591f7a96-e279-4367-bd61-705907beee4b",
   "metadata": {},
   "outputs": [
    {
     "data": {
      "text/plain": [
       "['Toy Story',\n",
       " 'Batman Forever',\n",
       " 'Dumb & Dumber',\n",
       " 'Star Wars: Episode IV - A New Hope',\n",
       " 'Ace Ventura: Pet Detective',\n",
       " 'Speed',\n",
       " 'Jurassic Park',\n",
       " 'Batman',\n",
       " 'Wizard of Oz, The',\n",
       " 'Die Hard',\n",
       " 'E.T. the Extra-Terrestrial',\n",
       " 'Star Wars: Episode V - The Empire Strikes Back',\n",
       " 'Raiders of the Lost Ark',\n",
       " 'Aliens',\n",
       " 'Star Wars: Episode VI - Return of the Jedi',\n",
       " 'Alien',\n",
       " 'Army of Darkness',\n",
       " 'Indiana Jones and the Last Crusade',\n",
       " 'Face/Off',\n",
       " 'As Good as It Gets',\n",
       " 'Labyrinth',\n",
       " 'Lethal Weapon',\n",
       " 'Saving Private Ryan',\n",
       " 'Dark Crystal, The',\n",
       " 'NeverEnding Story, The',\n",
       " \"Bug's Life, A\",\n",
       " 'Matrix, The',\n",
       " 'Star Wars: Episode I - The Phantom Menace',\n",
       " 'RoboCop',\n",
       " 'Toy Story 2',\n",
       " 'Beach, The',\n",
       " 'Teenage Mutant Ninja Turtles',\n",
       " 'Flintstones in Viva Rock Vegas, The',\n",
       " 'Shanghai Noon',\n",
       " 'Starman',\n",
       " 'Chicken Run',\n",
       " 'X-Men',\n",
       " \"Charlie's Angels\",\n",
       " 'Cast Away',\n",
       " 'Memento',\n",
       " 'Spy Kids',\n",
       " 'Mummy Returns, The',\n",
       " 'Shrek',\n",
       " 'Jurassic Park III']"
      ]
     },
     "execution_count": 85,
     "metadata": {},
     "output_type": "execute_result"
    }
   ],
   "source": [
    "get_common_movies('user_234','user_610')"
   ]
  },
  {
   "cell_type": "code",
   "execution_count": 86,
   "id": "c04ff2d4-f60f-4302-921f-20683f93a06e",
   "metadata": {},
   "outputs": [],
   "source": [
    "# get reviews from common movies\n",
    "def get_reviews(user_A, user_B):\n",
    "    common_movies = get_common_movies(user_A, user_B)\n",
    "    return [(profiles[user_A][movie], profiles[user_B][movie]) for movie in common_movies]"
   ]
  },
  {
   "cell_type": "code",
   "execution_count": 87,
   "id": "af935f6e-37c2-4ac5-845a-a7b9c7a9d0b4",
   "metadata": {},
   "outputs": [
    {
     "data": {
      "text/plain": [
       "[(4.0, 4.0),\n",
       " (4.5, 5.0),\n",
       " (4.0, 5.0),\n",
       " (5.0, 5.0),\n",
       " (5.0, 5.0),\n",
       " (5.0, 5.0),\n",
       " (4.5, 5.0),\n",
       " (5.0, 5.0),\n",
       " (5.0, 5.0),\n",
       " (5.0, 4.0),\n",
       " (5.0, 4.0),\n",
       " (4.5, 4.0),\n",
       " (4.0, 4.0),\n",
       " (3.5, 4.0),\n",
       " (4.5, 3.0),\n",
       " (4.0, 4.0),\n",
       " (4.0, 4.0),\n",
       " (3.5, 4.0),\n",
       " (4.0, 4.0),\n",
       " (4.5, 4.0)]"
      ]
     },
     "execution_count": 87,
     "metadata": {},
     "output_type": "execute_result"
    }
   ],
   "source": [
    "get_reviews('user_70','user_391')"
   ]
  },
  {
   "cell_type": "code",
   "execution_count": 88,
   "id": "ebca4655-c442-4f8a-befb-69a41587d1e5",
   "metadata": {},
   "outputs": [],
   "source": [
    "# get reviews from common movies\n",
    "def get_reviews_detailed(user_A, user_B):\n",
    "    common_movies = get_common_movies(user_A, user_B)\n",
    "    reviews = [(profiles[user_A][movie], profiles[user_B][movie]) for movie in common_movies]\n",
    "    result = zip(common_movies, reviews)\n",
    "    return set(result)"
   ]
  },
  {
   "cell_type": "code",
   "execution_count": 89,
   "id": "8d13bf7b-0b36-4883-9ec9-26bc4f3e2a9c",
   "metadata": {},
   "outputs": [
    {
     "data": {
      "text/plain": [
       "{('American Beauty', (4.0, 4.0)),\n",
       " ('Apollo 13', (4.0, 4.0)),\n",
       " ('Back to the Future', (4.0, 4.0)),\n",
       " ('Beautiful Mind, A', (4.5, 4.0)),\n",
       " ('Breakfast Club, The', (4.0, 4.0)),\n",
       " ('Cinema Paradiso', (5.0, 5.0)),\n",
       " ('Dead Poets Society', (5.0, 4.0)),\n",
       " ('E.T. the Extra-Terrestrial', (4.5, 5.0)),\n",
       " (\"Ferris Bueller's Day Off\", (3.5, 4.0)),\n",
       " ('Forrest Gump', (4.0, 5.0)),\n",
       " ('Godfather, The', (5.0, 5.0)),\n",
       " ('Good Will Hunting', (4.5, 3.0)),\n",
       " (\"It's a Wonderful Life\", (5.0, 5.0)),\n",
       " (\"One Flew Over the Cuckoo's Nest\", (5.0, 5.0)),\n",
       " (\"Schindler's List\", (5.0, 5.0)),\n",
       " ('Shawshank Redemption, The', (4.5, 5.0)),\n",
       " ('Shrek', (4.0, 4.0)),\n",
       " ('Stand by Me', (4.5, 4.0)),\n",
       " ('Star Wars: Episode VI - Return of the Jedi', (5.0, 4.0)),\n",
       " ('Truman Show, The', (3.5, 4.0))}"
      ]
     },
     "execution_count": 89,
     "metadata": {},
     "output_type": "execute_result"
    }
   ],
   "source": [
    "get_reviews_detailed('user_70','user_391')"
   ]
  },
  {
   "cell_type": "code",
   "execution_count": 90,
   "id": "1454c7ea-c12e-4d30-a3ab-3eeb7790f8f0",
   "metadata": {},
   "outputs": [],
   "source": [
    "def euclidean_distance(points):\n",
    "    squared_diff = [(point[0] - point[1]) ** 2 for point in points]\n",
    "    summed_squared_diffs = sum(squared_diff)\n",
    "    distance = np.sqrt(summed_squared_diffs)\n",
    "    return distance"
   ]
  },
  {
   "cell_type": "code",
   "execution_count": 91,
   "id": "0c8ee6a4-8926-4221-a1dc-55e9424c454d",
   "metadata": {},
   "outputs": [],
   "source": [
    "def similarity(reviews):\n",
    "    return 1/(1+euclidean_distance(reviews))"
   ]
  },
  {
   "cell_type": "code",
   "execution_count": 92,
   "id": "9a9a3bb3-7aa7-48f1-96c0-976a094785a3",
   "metadata": {},
   "outputs": [],
   "source": [
    "def get_user_similarity(user_A, user_B):\n",
    "    reviews = get_reviews(user_A, user_B)\n",
    "    return similarity(reviews)"
   ]
  },
  {
   "cell_type": "code",
   "execution_count": 95,
   "id": "d8efd4c7-f1b3-475e-8958-2b9955d9e432",
   "metadata": {},
   "outputs": [
    {
     "data": {
      "text/plain": [
       "0.21239994067041815"
      ]
     },
     "execution_count": 95,
     "metadata": {},
     "output_type": "execute_result"
    }
   ],
   "source": [
    "get_user_similarity('user_1','user_86')"
   ]
  },
  {
   "cell_type": "code",
   "execution_count": 96,
   "id": "ca7a3e5f-eb62-4295-a3de-617143b91c22",
   "metadata": {},
   "outputs": [],
   "source": [
    "def recommend_movies(user, num_suggestions):\n",
    "    similarity_scores = [(get_user_similarity(user, other), other) for other in profiles if other != user]\n",
    "    # get sim scores for all users\n",
    "    similarity_scores.sort()\n",
    "    similarity_scores.reverse()\n",
    "    # similarity_scores = similarity_scores[0:num_suggestions]\n",
    "    \n",
    "    recommendations = {}\n",
    "    for similarity, other in similarity_scores:\n",
    "        reviewed = profiles[other]\n",
    "        for movie in reviewed:\n",
    "            if movie not in profiles[user]:\n",
    "                weight = similarity * reviewed[movie]\n",
    "                if movie in recommendations:\n",
    "                    sim, weights = recommendations[movie]\n",
    "                    recommendations[movie] = (sim + similarity, weights + [weight])\n",
    "                else:\n",
    "                    recommendations[movie] = (similarity, [weight])\n",
    "                    \n",
    "    for recommendation in recommendations:\n",
    "        similarity, movie = recommendations[recommendation]\n",
    "        recommendations[recommendation] = sum(movie) / similarity\n",
    "        \n",
    "    sorted_recommendations = sorted(recommendations.items(), key=operator.itemgetter(1), reverse=True)\n",
    "    return sorted_recommendations[:num_suggestions]"
   ]
  },
  {
   "cell_type": "code",
   "execution_count": 97,
   "id": "1d6874e6-8996-4a31-84f2-38facfc3c20c",
   "metadata": {},
   "outputs": [
    {
     "data": {
      "text/plain": [
       "[('Jonah Who Will Be 25 in the Year 2000', 5.000000000000001),\n",
       " ('Come and See', 5.000000000000001),\n",
       " ('Story of Women', 5.0),\n",
       " ('Passenger, The', 5.0),\n",
       " ('Marriage of Maria Braun, The', 5.0),\n",
       " ('61*', 5.0),\n",
       " ('Thin Line Between Love and Hate, A', 5.0),\n",
       " ('Animals are Beautiful People', 5.0),\n",
       " ('Woman Is a Woman, A', 5.0),\n",
       " ('Thousand Clowns, A', 5.0)]"
      ]
     },
     "execution_count": 97,
     "metadata": {},
     "output_type": "execute_result"
    }
   ],
   "source": [
    "recommend_movies('user_203', 10)"
   ]
  },
  {
   "cell_type": "code",
   "execution_count": 279,
   "id": "d03386c6-74f9-458b-932b-3cf36c2e3bf0",
   "metadata": {},
   "outputs": [
    {
     "data": {
      "text/plain": [
       "[('Particle Fever', 5.000000000000001),\n",
       " ('Heidi Fleiss: Hollywood Madam', 5.000000000000001),\n",
       " ('Lamerica', 5.0),\n",
       " ('Entertaining Angels: The Dorothy Day Story', 5.0),\n",
       " ('Story of Women', 5.0),\n",
       " ('Passenger, The', 5.0),\n",
       " ('Marriage of Maria Braun, The', 5.0),\n",
       " ('One I Love, The', 5.0),\n",
       " ('Laggies', 5.0),\n",
       " ('Delirium', 5.0)]"
      ]
     },
     "execution_count": 279,
     "metadata": {},
     "output_type": "execute_result"
    }
   ],
   "source": [
    "recommend_movies('user_120', 10)"
   ]
  },
  {
   "cell_type": "code",
   "execution_count": 98,
   "id": "bb773aa8-293e-47c0-8cd2-7827e2cca337",
   "metadata": {},
   "outputs": [],
   "source": [
    "merged_df = merged_df.dropna(axis=0)"
   ]
  },
  {
   "cell_type": "code",
   "execution_count": 99,
   "id": "7fe16154",
   "metadata": {},
   "outputs": [
    {
     "data": {
      "text/html": [
       "<div>\n",
       "<style scoped>\n",
       "    .dataframe tbody tr th:only-of-type {\n",
       "        vertical-align: middle;\n",
       "    }\n",
       "\n",
       "    .dataframe tbody tr th {\n",
       "        vertical-align: top;\n",
       "    }\n",
       "\n",
       "    .dataframe thead th {\n",
       "        text-align: right;\n",
       "    }\n",
       "</style>\n",
       "<table border=\"1\" class=\"dataframe\">\n",
       "  <thead>\n",
       "    <tr style=\"text-align: right;\">\n",
       "      <th></th>\n",
       "      <th>userId</th>\n",
       "      <th>movieId</th>\n",
       "      <th>rating</th>\n",
       "      <th>title</th>\n",
       "      <th>genres</th>\n",
       "      <th>year</th>\n",
       "    </tr>\n",
       "  </thead>\n",
       "  <tbody>\n",
       "    <tr>\n",
       "      <th>0</th>\n",
       "      <td>1</td>\n",
       "      <td>1</td>\n",
       "      <td>4.0</td>\n",
       "      <td>Toy Story</td>\n",
       "      <td>['Adventure', 'Animation', 'Children', 'Comedy...</td>\n",
       "      <td>1995.0</td>\n",
       "    </tr>\n",
       "    <tr>\n",
       "      <th>1</th>\n",
       "      <td>1</td>\n",
       "      <td>3</td>\n",
       "      <td>4.0</td>\n",
       "      <td>Grumpier Old Men</td>\n",
       "      <td>['Comedy', 'Romance']</td>\n",
       "      <td>1995.0</td>\n",
       "    </tr>\n",
       "    <tr>\n",
       "      <th>2</th>\n",
       "      <td>1</td>\n",
       "      <td>6</td>\n",
       "      <td>4.0</td>\n",
       "      <td>Heat</td>\n",
       "      <td>['Action', 'Crime', 'Thriller']</td>\n",
       "      <td>1995.0</td>\n",
       "    </tr>\n",
       "    <tr>\n",
       "      <th>3</th>\n",
       "      <td>1</td>\n",
       "      <td>47</td>\n",
       "      <td>5.0</td>\n",
       "      <td>Seven</td>\n",
       "      <td>['Mystery', 'Thriller']</td>\n",
       "      <td>1995.0</td>\n",
       "    </tr>\n",
       "    <tr>\n",
       "      <th>4</th>\n",
       "      <td>1</td>\n",
       "      <td>50</td>\n",
       "      <td>5.0</td>\n",
       "      <td>Usual Suspects, The</td>\n",
       "      <td>['Crime', 'Mystery', 'Thriller']</td>\n",
       "      <td>1995.0</td>\n",
       "    </tr>\n",
       "  </tbody>\n",
       "</table>\n",
       "</div>"
      ],
      "text/plain": [
       "   userId  movieId  rating                title  \\\n",
       "0       1        1     4.0            Toy Story   \n",
       "1       1        3     4.0     Grumpier Old Men   \n",
       "2       1        6     4.0                 Heat   \n",
       "3       1       47     5.0                Seven   \n",
       "4       1       50     5.0  Usual Suspects, The   \n",
       "\n",
       "                                              genres    year  \n",
       "0  ['Adventure', 'Animation', 'Children', 'Comedy...  1995.0  \n",
       "1                              ['Comedy', 'Romance']  1995.0  \n",
       "2                    ['Action', 'Crime', 'Thriller']  1995.0  \n",
       "3                            ['Mystery', 'Thriller']  1995.0  \n",
       "4                   ['Crime', 'Mystery', 'Thriller']  1995.0  "
      ]
     },
     "execution_count": 99,
     "metadata": {},
     "output_type": "execute_result"
    }
   ],
   "source": [
    "merged_df.head()"
   ]
  },
  {
   "cell_type": "code",
   "execution_count": 100,
   "id": "86280c2d",
   "metadata": {},
   "outputs": [],
   "source": [
    "merged_df['year'] = [int(x) for x in merged_df['year']]"
   ]
  },
  {
   "cell_type": "code",
   "execution_count": 101,
   "id": "319202d6",
   "metadata": {},
   "outputs": [
    {
     "data": {
      "text/html": [
       "<div>\n",
       "<style scoped>\n",
       "    .dataframe tbody tr th:only-of-type {\n",
       "        vertical-align: middle;\n",
       "    }\n",
       "\n",
       "    .dataframe tbody tr th {\n",
       "        vertical-align: top;\n",
       "    }\n",
       "\n",
       "    .dataframe thead th {\n",
       "        text-align: right;\n",
       "    }\n",
       "</style>\n",
       "<table border=\"1\" class=\"dataframe\">\n",
       "  <thead>\n",
       "    <tr style=\"text-align: right;\">\n",
       "      <th></th>\n",
       "      <th>userId</th>\n",
       "      <th>movieId</th>\n",
       "      <th>rating</th>\n",
       "      <th>title</th>\n",
       "      <th>genres</th>\n",
       "      <th>year</th>\n",
       "    </tr>\n",
       "  </thead>\n",
       "  <tbody>\n",
       "    <tr>\n",
       "      <th>0</th>\n",
       "      <td>1</td>\n",
       "      <td>1</td>\n",
       "      <td>4.0</td>\n",
       "      <td>Toy Story</td>\n",
       "      <td>['Adventure', 'Animation', 'Children', 'Comedy...</td>\n",
       "      <td>1995</td>\n",
       "    </tr>\n",
       "    <tr>\n",
       "      <th>1</th>\n",
       "      <td>1</td>\n",
       "      <td>3</td>\n",
       "      <td>4.0</td>\n",
       "      <td>Grumpier Old Men</td>\n",
       "      <td>['Comedy', 'Romance']</td>\n",
       "      <td>1995</td>\n",
       "    </tr>\n",
       "    <tr>\n",
       "      <th>2</th>\n",
       "      <td>1</td>\n",
       "      <td>6</td>\n",
       "      <td>4.0</td>\n",
       "      <td>Heat</td>\n",
       "      <td>['Action', 'Crime', 'Thriller']</td>\n",
       "      <td>1995</td>\n",
       "    </tr>\n",
       "    <tr>\n",
       "      <th>3</th>\n",
       "      <td>1</td>\n",
       "      <td>47</td>\n",
       "      <td>5.0</td>\n",
       "      <td>Seven</td>\n",
       "      <td>['Mystery', 'Thriller']</td>\n",
       "      <td>1995</td>\n",
       "    </tr>\n",
       "    <tr>\n",
       "      <th>4</th>\n",
       "      <td>1</td>\n",
       "      <td>50</td>\n",
       "      <td>5.0</td>\n",
       "      <td>Usual Suspects, The</td>\n",
       "      <td>['Crime', 'Mystery', 'Thriller']</td>\n",
       "      <td>1995</td>\n",
       "    </tr>\n",
       "  </tbody>\n",
       "</table>\n",
       "</div>"
      ],
      "text/plain": [
       "   userId  movieId  rating                title  \\\n",
       "0       1        1     4.0            Toy Story   \n",
       "1       1        3     4.0     Grumpier Old Men   \n",
       "2       1        6     4.0                 Heat   \n",
       "3       1       47     5.0                Seven   \n",
       "4       1       50     5.0  Usual Suspects, The   \n",
       "\n",
       "                                              genres  year  \n",
       "0  ['Adventure', 'Animation', 'Children', 'Comedy...  1995  \n",
       "1                              ['Comedy', 'Romance']  1995  \n",
       "2                    ['Action', 'Crime', 'Thriller']  1995  \n",
       "3                            ['Mystery', 'Thriller']  1995  \n",
       "4                   ['Crime', 'Mystery', 'Thriller']  1995  "
      ]
     },
     "execution_count": 101,
     "metadata": {},
     "output_type": "execute_result"
    }
   ],
   "source": [
    "merged_df.head()"
   ]
  },
  {
   "cell_type": "code",
   "execution_count": 102,
   "id": "fb6607f3",
   "metadata": {},
   "outputs": [],
   "source": [
    "import plotly.express as px"
   ]
  },
  {
   "cell_type": "code",
   "execution_count": 103,
   "id": "51ca020d",
   "metadata": {},
   "outputs": [],
   "source": [
    "merged_df = merged_df[merged_df['year']>=1915]"
   ]
  },
  {
   "cell_type": "code",
   "execution_count": 104,
   "id": "f84b3df1",
   "metadata": {},
   "outputs": [],
   "source": [
    "fig = px.bar(merged_df, merged_df['year'].unique(), merged_df['year'].value_counts(), title='Movies Produced by Year')"
   ]
  },
  {
   "cell_type": "code",
   "execution_count": 105,
   "id": "39da8733",
   "metadata": {},
   "outputs": [
    {
     "data": {
      "application/vnd.plotly.v1+json": {
       "config": {
        "plotlyServerURL": "https://plot.ly"
       },
       "data": [
        {
         "alignmentgroup": "True",
         "hovertemplate": "x=%{x}<br>y=%{y}<extra></extra>",
         "legendgroup": "",
         "marker": {
          "color": "#636efa",
          "pattern": {
           "shape": ""
          }
         },
         "name": "",
         "offsetgroup": "",
         "orientation": "v",
         "showlegend": false,
         "textposition": "auto",
         "type": "bar",
         "x": [
          1995,
          1996,
          1994,
          1977,
          1993,
          1990,
          1989,
          1991,
          1940,
          1939,
          1941,
          1938,
          1947,
          1975,
          1968,
          1945,
          1963,
          1971,
          1951,
          1979,
          1992,
          1986,
          1982,
          1980,
          1987,
          1981,
          1983,
          1960,
          1952,
          1984,
          1933,
          1985,
          1974,
          1922,
          1997,
          1998,
          1930,
          1976,
          1942,
          1967,
          1959,
          1946,
          1978,
          1973,
          1988,
          1999,
          1931,
          1964,
          1962,
          1965,
          1969,
          2000,
          1970,
          2003,
          2004,
          2006,
          2008,
          2009,
          2010,
          2011,
          2012,
          2013,
          2014,
          2015,
          1955,
          2002,
          1961,
          1954,
          1957,
          1943,
          1956,
          1966,
          2001,
          1937,
          1972,
          2005,
          1950,
          2007,
          2016,
          1926,
          1944,
          1949,
          1936,
          2017,
          1958,
          1935,
          1927,
          1953,
          2018,
          1923,
          1920,
          1948,
          1928,
          1934,
          1916,
          1932,
          1921,
          1925,
          1929,
          1917,
          1915,
          1924,
          1919
         ],
         "xaxis": "x",
         "y": [
          6144,
          5296,
          4516,
          4473,
          4308,
          4018,
          3741,
          3641,
          3639,
          3542,
          3380,
          3138,
          2585,
          2496,
          2293,
          2151,
          2010,
          1926,
          1895,
          1835,
          1732,
          1722,
          1581,
          1550,
          1538,
          1440,
          1422,
          1409,
          1320,
          1239,
          1199,
          1088,
          1053,
          944,
          878,
          792,
          785,
          783,
          636,
          567,
          526,
          490,
          483,
          464,
          441,
          420,
          381,
          376,
          366,
          325,
          287,
          272,
          262,
          251,
          244,
          243,
          234,
          225,
          223,
          219,
          215,
          201,
          200,
          190,
          185,
          182,
          182,
          165,
          161,
          153,
          138,
          115,
          115,
          96,
          92,
          92,
          80,
          76,
          72,
          65,
          56,
          53,
          52,
          46,
          42,
          34,
          29,
          24,
          20,
          19,
          17,
          16,
          13,
          13,
          9,
          8,
          7,
          6,
          5,
          5,
          1,
          1,
          1
         ],
         "yaxis": "y"
        }
       ],
       "layout": {
        "barmode": "relative",
        "legend": {
         "tracegroupgap": 0
        },
        "template": {
         "data": {
          "bar": [
           {
            "error_x": {
             "color": "#2a3f5f"
            },
            "error_y": {
             "color": "#2a3f5f"
            },
            "marker": {
             "line": {
              "color": "#E5ECF6",
              "width": 0.5
             },
             "pattern": {
              "fillmode": "overlay",
              "size": 10,
              "solidity": 0.2
             }
            },
            "type": "bar"
           }
          ],
          "barpolar": [
           {
            "marker": {
             "line": {
              "color": "#E5ECF6",
              "width": 0.5
             },
             "pattern": {
              "fillmode": "overlay",
              "size": 10,
              "solidity": 0.2
             }
            },
            "type": "barpolar"
           }
          ],
          "carpet": [
           {
            "aaxis": {
             "endlinecolor": "#2a3f5f",
             "gridcolor": "white",
             "linecolor": "white",
             "minorgridcolor": "white",
             "startlinecolor": "#2a3f5f"
            },
            "baxis": {
             "endlinecolor": "#2a3f5f",
             "gridcolor": "white",
             "linecolor": "white",
             "minorgridcolor": "white",
             "startlinecolor": "#2a3f5f"
            },
            "type": "carpet"
           }
          ],
          "choropleth": [
           {
            "colorbar": {
             "outlinewidth": 0,
             "ticks": ""
            },
            "type": "choropleth"
           }
          ],
          "contour": [
           {
            "colorbar": {
             "outlinewidth": 0,
             "ticks": ""
            },
            "colorscale": [
             [
              0,
              "#0d0887"
             ],
             [
              0.1111111111111111,
              "#46039f"
             ],
             [
              0.2222222222222222,
              "#7201a8"
             ],
             [
              0.3333333333333333,
              "#9c179e"
             ],
             [
              0.4444444444444444,
              "#bd3786"
             ],
             [
              0.5555555555555556,
              "#d8576b"
             ],
             [
              0.6666666666666666,
              "#ed7953"
             ],
             [
              0.7777777777777778,
              "#fb9f3a"
             ],
             [
              0.8888888888888888,
              "#fdca26"
             ],
             [
              1,
              "#f0f921"
             ]
            ],
            "type": "contour"
           }
          ],
          "contourcarpet": [
           {
            "colorbar": {
             "outlinewidth": 0,
             "ticks": ""
            },
            "type": "contourcarpet"
           }
          ],
          "heatmap": [
           {
            "colorbar": {
             "outlinewidth": 0,
             "ticks": ""
            },
            "colorscale": [
             [
              0,
              "#0d0887"
             ],
             [
              0.1111111111111111,
              "#46039f"
             ],
             [
              0.2222222222222222,
              "#7201a8"
             ],
             [
              0.3333333333333333,
              "#9c179e"
             ],
             [
              0.4444444444444444,
              "#bd3786"
             ],
             [
              0.5555555555555556,
              "#d8576b"
             ],
             [
              0.6666666666666666,
              "#ed7953"
             ],
             [
              0.7777777777777778,
              "#fb9f3a"
             ],
             [
              0.8888888888888888,
              "#fdca26"
             ],
             [
              1,
              "#f0f921"
             ]
            ],
            "type": "heatmap"
           }
          ],
          "heatmapgl": [
           {
            "colorbar": {
             "outlinewidth": 0,
             "ticks": ""
            },
            "colorscale": [
             [
              0,
              "#0d0887"
             ],
             [
              0.1111111111111111,
              "#46039f"
             ],
             [
              0.2222222222222222,
              "#7201a8"
             ],
             [
              0.3333333333333333,
              "#9c179e"
             ],
             [
              0.4444444444444444,
              "#bd3786"
             ],
             [
              0.5555555555555556,
              "#d8576b"
             ],
             [
              0.6666666666666666,
              "#ed7953"
             ],
             [
              0.7777777777777778,
              "#fb9f3a"
             ],
             [
              0.8888888888888888,
              "#fdca26"
             ],
             [
              1,
              "#f0f921"
             ]
            ],
            "type": "heatmapgl"
           }
          ],
          "histogram": [
           {
            "marker": {
             "pattern": {
              "fillmode": "overlay",
              "size": 10,
              "solidity": 0.2
             }
            },
            "type": "histogram"
           }
          ],
          "histogram2d": [
           {
            "colorbar": {
             "outlinewidth": 0,
             "ticks": ""
            },
            "colorscale": [
             [
              0,
              "#0d0887"
             ],
             [
              0.1111111111111111,
              "#46039f"
             ],
             [
              0.2222222222222222,
              "#7201a8"
             ],
             [
              0.3333333333333333,
              "#9c179e"
             ],
             [
              0.4444444444444444,
              "#bd3786"
             ],
             [
              0.5555555555555556,
              "#d8576b"
             ],
             [
              0.6666666666666666,
              "#ed7953"
             ],
             [
              0.7777777777777778,
              "#fb9f3a"
             ],
             [
              0.8888888888888888,
              "#fdca26"
             ],
             [
              1,
              "#f0f921"
             ]
            ],
            "type": "histogram2d"
           }
          ],
          "histogram2dcontour": [
           {
            "colorbar": {
             "outlinewidth": 0,
             "ticks": ""
            },
            "colorscale": [
             [
              0,
              "#0d0887"
             ],
             [
              0.1111111111111111,
              "#46039f"
             ],
             [
              0.2222222222222222,
              "#7201a8"
             ],
             [
              0.3333333333333333,
              "#9c179e"
             ],
             [
              0.4444444444444444,
              "#bd3786"
             ],
             [
              0.5555555555555556,
              "#d8576b"
             ],
             [
              0.6666666666666666,
              "#ed7953"
             ],
             [
              0.7777777777777778,
              "#fb9f3a"
             ],
             [
              0.8888888888888888,
              "#fdca26"
             ],
             [
              1,
              "#f0f921"
             ]
            ],
            "type": "histogram2dcontour"
           }
          ],
          "mesh3d": [
           {
            "colorbar": {
             "outlinewidth": 0,
             "ticks": ""
            },
            "type": "mesh3d"
           }
          ],
          "parcoords": [
           {
            "line": {
             "colorbar": {
              "outlinewidth": 0,
              "ticks": ""
             }
            },
            "type": "parcoords"
           }
          ],
          "pie": [
           {
            "automargin": true,
            "type": "pie"
           }
          ],
          "scatter": [
           {
            "marker": {
             "colorbar": {
              "outlinewidth": 0,
              "ticks": ""
             }
            },
            "type": "scatter"
           }
          ],
          "scatter3d": [
           {
            "line": {
             "colorbar": {
              "outlinewidth": 0,
              "ticks": ""
             }
            },
            "marker": {
             "colorbar": {
              "outlinewidth": 0,
              "ticks": ""
             }
            },
            "type": "scatter3d"
           }
          ],
          "scattercarpet": [
           {
            "marker": {
             "colorbar": {
              "outlinewidth": 0,
              "ticks": ""
             }
            },
            "type": "scattercarpet"
           }
          ],
          "scattergeo": [
           {
            "marker": {
             "colorbar": {
              "outlinewidth": 0,
              "ticks": ""
             }
            },
            "type": "scattergeo"
           }
          ],
          "scattergl": [
           {
            "marker": {
             "colorbar": {
              "outlinewidth": 0,
              "ticks": ""
             }
            },
            "type": "scattergl"
           }
          ],
          "scattermapbox": [
           {
            "marker": {
             "colorbar": {
              "outlinewidth": 0,
              "ticks": ""
             }
            },
            "type": "scattermapbox"
           }
          ],
          "scatterpolar": [
           {
            "marker": {
             "colorbar": {
              "outlinewidth": 0,
              "ticks": ""
             }
            },
            "type": "scatterpolar"
           }
          ],
          "scatterpolargl": [
           {
            "marker": {
             "colorbar": {
              "outlinewidth": 0,
              "ticks": ""
             }
            },
            "type": "scatterpolargl"
           }
          ],
          "scatterternary": [
           {
            "marker": {
             "colorbar": {
              "outlinewidth": 0,
              "ticks": ""
             }
            },
            "type": "scatterternary"
           }
          ],
          "surface": [
           {
            "colorbar": {
             "outlinewidth": 0,
             "ticks": ""
            },
            "colorscale": [
             [
              0,
              "#0d0887"
             ],
             [
              0.1111111111111111,
              "#46039f"
             ],
             [
              0.2222222222222222,
              "#7201a8"
             ],
             [
              0.3333333333333333,
              "#9c179e"
             ],
             [
              0.4444444444444444,
              "#bd3786"
             ],
             [
              0.5555555555555556,
              "#d8576b"
             ],
             [
              0.6666666666666666,
              "#ed7953"
             ],
             [
              0.7777777777777778,
              "#fb9f3a"
             ],
             [
              0.8888888888888888,
              "#fdca26"
             ],
             [
              1,
              "#f0f921"
             ]
            ],
            "type": "surface"
           }
          ],
          "table": [
           {
            "cells": {
             "fill": {
              "color": "#EBF0F8"
             },
             "line": {
              "color": "white"
             }
            },
            "header": {
             "fill": {
              "color": "#C8D4E3"
             },
             "line": {
              "color": "white"
             }
            },
            "type": "table"
           }
          ]
         },
         "layout": {
          "annotationdefaults": {
           "arrowcolor": "#2a3f5f",
           "arrowhead": 0,
           "arrowwidth": 1
          },
          "autotypenumbers": "strict",
          "coloraxis": {
           "colorbar": {
            "outlinewidth": 0,
            "ticks": ""
           }
          },
          "colorscale": {
           "diverging": [
            [
             0,
             "#8e0152"
            ],
            [
             0.1,
             "#c51b7d"
            ],
            [
             0.2,
             "#de77ae"
            ],
            [
             0.3,
             "#f1b6da"
            ],
            [
             0.4,
             "#fde0ef"
            ],
            [
             0.5,
             "#f7f7f7"
            ],
            [
             0.6,
             "#e6f5d0"
            ],
            [
             0.7,
             "#b8e186"
            ],
            [
             0.8,
             "#7fbc41"
            ],
            [
             0.9,
             "#4d9221"
            ],
            [
             1,
             "#276419"
            ]
           ],
           "sequential": [
            [
             0,
             "#0d0887"
            ],
            [
             0.1111111111111111,
             "#46039f"
            ],
            [
             0.2222222222222222,
             "#7201a8"
            ],
            [
             0.3333333333333333,
             "#9c179e"
            ],
            [
             0.4444444444444444,
             "#bd3786"
            ],
            [
             0.5555555555555556,
             "#d8576b"
            ],
            [
             0.6666666666666666,
             "#ed7953"
            ],
            [
             0.7777777777777778,
             "#fb9f3a"
            ],
            [
             0.8888888888888888,
             "#fdca26"
            ],
            [
             1,
             "#f0f921"
            ]
           ],
           "sequentialminus": [
            [
             0,
             "#0d0887"
            ],
            [
             0.1111111111111111,
             "#46039f"
            ],
            [
             0.2222222222222222,
             "#7201a8"
            ],
            [
             0.3333333333333333,
             "#9c179e"
            ],
            [
             0.4444444444444444,
             "#bd3786"
            ],
            [
             0.5555555555555556,
             "#d8576b"
            ],
            [
             0.6666666666666666,
             "#ed7953"
            ],
            [
             0.7777777777777778,
             "#fb9f3a"
            ],
            [
             0.8888888888888888,
             "#fdca26"
            ],
            [
             1,
             "#f0f921"
            ]
           ]
          },
          "colorway": [
           "#636efa",
           "#EF553B",
           "#00cc96",
           "#ab63fa",
           "#FFA15A",
           "#19d3f3",
           "#FF6692",
           "#B6E880",
           "#FF97FF",
           "#FECB52"
          ],
          "font": {
           "color": "#2a3f5f"
          },
          "geo": {
           "bgcolor": "white",
           "lakecolor": "white",
           "landcolor": "#E5ECF6",
           "showlakes": true,
           "showland": true,
           "subunitcolor": "white"
          },
          "hoverlabel": {
           "align": "left"
          },
          "hovermode": "closest",
          "mapbox": {
           "style": "light"
          },
          "paper_bgcolor": "white",
          "plot_bgcolor": "#E5ECF6",
          "polar": {
           "angularaxis": {
            "gridcolor": "white",
            "linecolor": "white",
            "ticks": ""
           },
           "bgcolor": "#E5ECF6",
           "radialaxis": {
            "gridcolor": "white",
            "linecolor": "white",
            "ticks": ""
           }
          },
          "scene": {
           "xaxis": {
            "backgroundcolor": "#E5ECF6",
            "gridcolor": "white",
            "gridwidth": 2,
            "linecolor": "white",
            "showbackground": true,
            "ticks": "",
            "zerolinecolor": "white"
           },
           "yaxis": {
            "backgroundcolor": "#E5ECF6",
            "gridcolor": "white",
            "gridwidth": 2,
            "linecolor": "white",
            "showbackground": true,
            "ticks": "",
            "zerolinecolor": "white"
           },
           "zaxis": {
            "backgroundcolor": "#E5ECF6",
            "gridcolor": "white",
            "gridwidth": 2,
            "linecolor": "white",
            "showbackground": true,
            "ticks": "",
            "zerolinecolor": "white"
           }
          },
          "shapedefaults": {
           "line": {
            "color": "#2a3f5f"
           }
          },
          "ternary": {
           "aaxis": {
            "gridcolor": "white",
            "linecolor": "white",
            "ticks": ""
           },
           "baxis": {
            "gridcolor": "white",
            "linecolor": "white",
            "ticks": ""
           },
           "bgcolor": "#E5ECF6",
           "caxis": {
            "gridcolor": "white",
            "linecolor": "white",
            "ticks": ""
           }
          },
          "title": {
           "x": 0.05
          },
          "xaxis": {
           "automargin": true,
           "gridcolor": "white",
           "linecolor": "white",
           "ticks": "",
           "title": {
            "standoff": 15
           },
           "zerolinecolor": "white",
           "zerolinewidth": 2
          },
          "yaxis": {
           "automargin": true,
           "gridcolor": "white",
           "linecolor": "white",
           "ticks": "",
           "title": {
            "standoff": 15
           },
           "zerolinecolor": "white",
           "zerolinewidth": 2
          }
         }
        },
        "title": {
         "text": "Movies Produced by Year"
        },
        "xaxis": {
         "anchor": "y",
         "domain": [
          0,
          1
         ],
         "title": {
          "text": "x"
         }
        },
        "yaxis": {
         "anchor": "x",
         "domain": [
          0,
          1
         ],
         "title": {
          "text": "y"
         }
        }
       }
      }
     },
     "metadata": {},
     "output_type": "display_data"
    }
   ],
   "source": [
    "fig.show()"
   ]
  },
  {
   "cell_type": "code",
   "execution_count": 106,
   "id": "3827f6f9",
   "metadata": {},
   "outputs": [],
   "source": [
    "small_df = merged_df[0:round(len(merged_df)*0.01)]"
   ]
  },
  {
   "cell_type": "code",
   "execution_count": 107,
   "id": "d28caec0",
   "metadata": {},
   "outputs": [],
   "source": [
    "small_df['userId'] = ['user_'+str(x) for x in small_df['userId']]"
   ]
  },
  {
   "cell_type": "code",
   "execution_count": 108,
   "id": "2fa59c27",
   "metadata": {},
   "outputs": [],
   "source": [
    "import networkx as nx"
   ]
  },
  {
   "cell_type": "code",
   "execution_count": 109,
   "id": "96a8d02d",
   "metadata": {},
   "outputs": [],
   "source": [
    "G = nx.Graph()"
   ]
  },
  {
   "cell_type": "code",
   "execution_count": 110,
   "id": "03d1c148",
   "metadata": {},
   "outputs": [],
   "source": [
    "G = nx.from_pandas_edgelist(small_df, source='userId',target='title', edge_attr='rating')"
   ]
  },
  {
   "cell_type": "code",
   "execution_count": 111,
   "id": "4673de7e",
   "metadata": {},
   "outputs": [],
   "source": [
    "from pyvis.network import Network"
   ]
  },
  {
   "cell_type": "code",
   "execution_count": null,
   "id": "e927f558",
   "metadata": {},
   "outputs": [],
   "source": [
    "net = Network(notebook=True)\n",
    "net.from_nx(G)\n",
    "net.inherit_edge_colors(True)\n",
    "net.show('network_graph.html')"
   ]
  },
  {
   "cell_type": "code",
   "execution_count": 113,
   "id": "7447150c",
   "metadata": {},
   "outputs": [
    {
     "data": {
      "text/html": [
       "<div>\n",
       "<style scoped>\n",
       "    .dataframe tbody tr th:only-of-type {\n",
       "        vertical-align: middle;\n",
       "    }\n",
       "\n",
       "    .dataframe tbody tr th {\n",
       "        vertical-align: top;\n",
       "    }\n",
       "\n",
       "    .dataframe thead th {\n",
       "        text-align: right;\n",
       "    }\n",
       "</style>\n",
       "<table border=\"1\" class=\"dataframe\">\n",
       "  <thead>\n",
       "    <tr style=\"text-align: right;\">\n",
       "      <th></th>\n",
       "      <th>userId</th>\n",
       "      <th>movieId</th>\n",
       "      <th>rating</th>\n",
       "      <th>title</th>\n",
       "      <th>genres</th>\n",
       "      <th>year</th>\n",
       "      <th>genres_cat</th>\n",
       "      <th>title_cat</th>\n",
       "    </tr>\n",
       "  </thead>\n",
       "  <tbody>\n",
       "    <tr>\n",
       "      <th>0</th>\n",
       "      <td>1</td>\n",
       "      <td>1</td>\n",
       "      <td>4.0</td>\n",
       "      <td>Toy Story</td>\n",
       "      <td>['Adventure', 'Animation', 'Children', 'Comedy...</td>\n",
       "      <td>1995</td>\n",
       "      <td>353</td>\n",
       "      <td>8545</td>\n",
       "    </tr>\n",
       "    <tr>\n",
       "      <th>1</th>\n",
       "      <td>1</td>\n",
       "      <td>3</td>\n",
       "      <td>4.0</td>\n",
       "      <td>Grumpier Old Men</td>\n",
       "      <td>['Comedy', 'Romance']</td>\n",
       "      <td>1995</td>\n",
       "      <td>734</td>\n",
       "      <td>3522</td>\n",
       "    </tr>\n",
       "    <tr>\n",
       "      <th>2</th>\n",
       "      <td>1</td>\n",
       "      <td>6</td>\n",
       "      <td>4.0</td>\n",
       "      <td>Heat</td>\n",
       "      <td>['Action', 'Crime', 'Thriller']</td>\n",
       "      <td>1995</td>\n",
       "      <td>260</td>\n",
       "      <td>3695</td>\n",
       "    </tr>\n",
       "    <tr>\n",
       "      <th>3</th>\n",
       "      <td>1</td>\n",
       "      <td>47</td>\n",
       "      <td>5.0</td>\n",
       "      <td>Seven</td>\n",
       "      <td>['Mystery', 'Thriller']</td>\n",
       "      <td>1995</td>\n",
       "      <td>934</td>\n",
       "      <td>7235</td>\n",
       "    </tr>\n",
       "    <tr>\n",
       "      <th>4</th>\n",
       "      <td>1</td>\n",
       "      <td>50</td>\n",
       "      <td>5.0</td>\n",
       "      <td>Usual Suspects, The</td>\n",
       "      <td>['Crime', 'Mystery', 'Thriller']</td>\n",
       "      <td>1995</td>\n",
       "      <td>787</td>\n",
       "      <td>8783</td>\n",
       "    </tr>\n",
       "  </tbody>\n",
       "</table>\n",
       "</div>"
      ],
      "text/plain": [
       "   userId  movieId  rating                title  \\\n",
       "0       1        1     4.0            Toy Story   \n",
       "1       1        3     4.0     Grumpier Old Men   \n",
       "2       1        6     4.0                 Heat   \n",
       "3       1       47     5.0                Seven   \n",
       "4       1       50     5.0  Usual Suspects, The   \n",
       "\n",
       "                                              genres  year  genres_cat  \\\n",
       "0  ['Adventure', 'Animation', 'Children', 'Comedy...  1995         353   \n",
       "1                              ['Comedy', 'Romance']  1995         734   \n",
       "2                    ['Action', 'Crime', 'Thriller']  1995         260   \n",
       "3                            ['Mystery', 'Thriller']  1995         934   \n",
       "4                   ['Crime', 'Mystery', 'Thriller']  1995         787   \n",
       "\n",
       "   title_cat  \n",
       "0       8545  \n",
       "1       3522  \n",
       "2       3695  \n",
       "3       7235  \n",
       "4       8783  "
      ]
     },
     "execution_count": 113,
     "metadata": {},
     "output_type": "execute_result"
    }
   ],
   "source": [
    "import pandas as pd\n",
    "import numpy as np \n",
    "from sklearn.preprocessing import LabelEncoder\n",
    "encoder = LabelEncoder()\n",
    "merged_df['genres_cat'] = encoder.fit_transform(merged_df['genres'])\n",
    "merged_df['title_cat'] = encoder.fit_transform(merged_df['title'])\n",
    "merged_df.head()"
   ]
  },
  {
   "cell_type": "code",
   "execution_count": 134,
   "id": "461b7be9",
   "metadata": {},
   "outputs": [],
   "source": [
    "def predict_rating(user, title):\n",
    "    similarity_scores = [(get_user_similarity(user, other), other) for other in profiles if other != user]\n",
    "    # get sim scores for all users\n",
    "    similarity_scores.sort()\n",
    "    similarity_scores.reverse()\n",
    "    \n",
    "    recommendations = {}\n",
    "    for similarity, other in similarity_scores:\n",
    "        reviewed = profiles[other]\n",
    "        for movie in reviewed:\n",
    "            weight = similarity * reviewed[movie]\n",
    "            if movie in recommendations:\n",
    "                sim, weights = recommendations[movie]\n",
    "                recommendations[movie] = (sim + similarity, weights + [weight])\n",
    "            else:\n",
    "                recommendations[movie] = (similarity, [weight])\n",
    "                    \n",
    "    for recommendation in recommendations:\n",
    "        similarity, movie = recommendations[recommendation]\n",
    "        recommendations[recommendation] = sum(movie) / similarity\n",
    "\n",
    "    return recommendations[title]"
   ]
  },
  {
   "cell_type": "code",
   "execution_count": 135,
   "id": "0d82fcf7",
   "metadata": {},
   "outputs": [
    {
     "data": {
      "text/plain": [
       "3.9972001085979056"
      ]
     },
     "execution_count": 135,
     "metadata": {},
     "output_type": "execute_result"
    }
   ],
   "source": [
    "predict_rating('user_1','Toy Story')"
   ]
  },
  {
   "cell_type": "code",
   "execution_count": 140,
   "id": "43640fc5",
   "metadata": {},
   "outputs": [
    {
     "name": "stdout",
     "output_type": "stream",
     "text": [
      "Toy Story : 3.9972001085979056\n",
      "Grumpier Old Men : 3.385277489894013\n",
      "Heat : 4.025073932981687\n",
      "Seven : 4.075882463767784\n",
      "Usual Suspects, The : 4.318454264952223\n",
      "From Dusk Till Dawn : 3.5075135392341017\n",
      "Bottle Rocket : 3.603532650064559\n",
      "Braveheart : 4.129677429373077\n",
      "Rob Roy : 3.4941203544029413\n",
      "Canadian Bacon : 2.6628028666138572\n",
      "Desperado : 3.592462500510135\n",
      "Billy Madison : 3.5170013634991286\n",
      "Clerks : 3.946175652096673\n",
      "Dumb & Dumber : 3.1914582113205645\n",
      "Ed Wood : 3.7113364769052795\n",
      "Star Wars: Episode IV - A New Hope : 4.310235491294956\n",
      "Pulp Fiction : 4.168676560532393\n",
      "Stargate : 3.3542659908323773\n",
      "Tommy Boy : 3.936019231490493\n",
      "Clear and Present Danger : 3.657129449485551\n",
      "Forrest Gump : 4.243630286380716\n",
      "Jungle Book, The : 3.803288394796192\n",
      "Mask, The : 3.270954004722741\n",
      "Blown Away : 2.778289481613553\n",
      "Dazed and Confused : 3.8431059420616744\n",
      "Fugitive, The : 4.079834307198037\n",
      "Jurassic Park : 3.801069861844889\n",
      "Mrs. Doubtfire : 3.462957106246344\n",
      "Schindler's List : 4.352932631731257\n",
      "So I Married an Axe Murderer : 3.245212374966503\n",
      "Three Musketeers, The : 3.3918571973913707\n",
      "Tombstone : 3.835826903098011\n",
      "Dances with Wolves : 3.8952541337359943\n",
      "Batman : 3.4414552370502696\n",
      "Silence of the Lambs, The : 4.194896429101108\n",
      "Pinocchio : 3.638478751045084\n",
      "Fargo : 4.238613308323902\n",
      "Mission: Impossible : 3.6308396883910445\n",
      "James and the Giant Peach : 3.5368882369805403\n",
      "Space Jam : 2.8954169954447364\n",
      "Rock, The : 3.795782511377951\n",
      "Twister : 3.4922509033760516\n",
      "Independence Day : 3.5994482926064757\n",
      "She's the One : 3.1901052595191146\n",
      "Wizard of Oz, The : 3.955071584334461\n",
      "Citizen Kane : 4.126129854191678\n",
      "Adventures of Robin Hood, The : 4.1951888175065175\n",
      "Ghost and Mrs. Muir, The : 4.175647604258684\n",
      "Mr. Smith Goes to Washington : 4.001364116063162\n",
      "Escape to Witch Mountain : 3.1186411785452535\n",
      "Winnie the Pooh and the Blustery Day : 3.432790682035741\n",
      "Three Caballeros, The : 3.4508698841602805\n",
      "Sword in the Stone, The : 3.6855665900482597\n",
      "Dumbo : 3.529746198063958\n",
      "Pete's Dragon : 2.7502339925797856\n",
      "Bedknobs and Broomsticks : 3.533727233883531\n",
      "Alice in Wonderland : 3.169270473202919\n",
      "That Thing You Do! : 3.596989150968672\n",
      "Ghost and the Darkness, The : 3.851553184910712\n",
      "Swingers : 3.767326452030496\n",
      "Willy Wonka & the Chocolate Factory : 3.8910085461337163\n",
      "Monty Python's Life of Brian : 3.9167278370837644\n",
      "Reservoir Dogs : 4.2720305587846505\n",
      "Platoon : 3.92940967040038\n",
      "Basic Instinct : 3.1696258409734135\n",
      "E.T. the Extra-Terrestrial : 3.8659637146316554\n",
      "Abyss, The : 3.524943724675295\n",
      "Monty Python and the Holy Grail : 4.198051110752011\n",
      "Star Wars: Episode V - The Empire Strikes Back : 4.260678272941696\n",
      "Princess Bride, The : 4.260038834742251\n",
      "Raiders of the Lost Ark : 4.30811302384043\n",
      "Clockwork Orange, A : 4.069231077402601\n",
      "Apocalypse Now : 4.306976188805933\n",
      "Star Wars: Episode VI - Return of the Jedi : 4.244273828924203\n",
      "Goodfellas : 4.289490078544461\n",
      "Alien : 4.045841116972053\n",
      "Psycho : 3.8705039227325457\n",
      "Blues Brothers, The : 3.899713609497063\n",
      "Full Metal Jacket : 4.1444227382895455\n",
      "Henry V : 3.8386927594442755\n",
      "Quiet Man, The : 3.327111443281256\n",
      "Terminator, The : 3.9351827155938985\n",
      "Duck Soup : 3.9608117849139206\n",
      "Shining, The : 4.139972138146579\n",
      "Groundhog Day : 3.9705501781832173\n",
      "Back to the Future : 4.126392252863325\n",
      "Highlander : 3.8673814075407584\n",
      "Young Frankenstein : 4.119999800807236\n",
      "Fantasia : 3.8814894375272795\n",
      "Indiana Jones and the Last Crusade : 4.10805284939751\n",
      "Pink Floyd: The Wall : 4.160520812628228\n",
      "Nosferatu : 3.5269774528834072\n",
      "Batman Returns : 3.1067104978863473\n",
      "Sneakers : 3.5352570109528823\n",
      "Last of the Mohicans, The : 3.910015229187538\n",
      "McHale's Navy : 2.1396815783356553\n",
      "Grosse Pointe Blank : 3.591248459397605\n",
      "Austin Powers: International Man of Mystery : 3.5947272300656463\n",
      "Con Air : 3.238940361715888\n",
      "Face/Off : 3.402812069217829\n",
      "Men in Black : 3.5546237079946907\n",
      "Conan the Barbarian : 3.1272958455285824\n",
      "L.A. Confidential : 4.1736074717436615\n",
      "Kiss the Girls : 3.5106063674595873\n",
      "Game, The : 3.821684751192022\n",
      "I Know What You Did Last Summer : 2.0446727227153674\n",
      "Starship Troopers : 3.4195901996445137\n",
      "Big Lebowski, The : 3.9602510870805188\n",
      "Wedding Singer, The : 3.4603024382558125\n",
      "Welcome to Woop-Woop : 4.0\n",
      "Newton Boys, The : 2.0\n",
      "Wild Things : 3.0281758659817073\n",
      "Small Soldiers : 2.8393409193385017\n",
      "All Quiet on the Western Front : 4.240418784597337\n",
      "Rocky : 3.9381607619807695\n",
      "Labyrinth : 3.8809276332681844\n",
      "Lethal Weapon : 3.7311177480213518\n",
      "Goonies, The : 3.6476083279660956\n",
      "Back to the Future Part III : 3.494928107521324\n",
      "Bambi : 3.3594762182356326\n",
      "Saving Private Ryan : 4.199115885434192\n",
      "Black Cauldron, The : 3.678377593592029\n",
      "Flight of the Navigator : 3.425560686048496\n",
      "Great Mouse Detective, The : 3.3722333920792433\n",
      "Honey, I Shrunk the Kids : 2.8070159204406155\n",
      "Negotiator, The : 3.431047147835773\n",
      "Rescuers, The : 2.947370352615755\n",
      "Return to Oz : 2.7698413127725856\n",
      "Rocketeer, The : 3.3239030406363\n",
      "Sleeping Beauty : 3.4952194738747595\n",
      "Song of the South : 3.417206948775037\n",
      "Tron : 3.4001997881592803\n",
      "Indiana Jones and the Temple of Doom : 3.743263841837879\n",
      "Lord of the Rings, The : 2.9991317272229097\n",
      "Charlotte's Web : 3.5758087878971083\n",
      "Secret of NIMH, The : 3.4941360357078106\n",
      "American Tail, An : 3.265517948912479\n",
      "Legend : 3.15636012199155\n",
      "NeverEnding Story, The : 3.789919609667752\n",
      "Beetlejuice : 3.4674670403342516\n",
      "Willow : 3.362533791634489\n",
      "Toys : 2.3864280005485257\n",
      "Few Good Men, A : 3.8377957946535526\n",
      "Rush Hour : 3.3942582834104997\n",
      "Edward Scissorhands : 3.7410253120410233\n",
      "American History X : 4.282667037484826\n",
      "I Still Know What You Did Last Summer : 2.026458365831746\n",
      "Enemy of the State : 3.6607317162213215\n",
      "King Kong : 3.3614387742998746\n",
      "Very Bad Things : 3.3905659696420396\n",
      "Rushmore : 3.658141615555749\n",
      "Romancing the Stone : 3.5270087737962785\n",
      "Young Sherlock Holmes : 3.4237874066355802\n",
      "Thin Red Line, The : 3.4333035626194963\n",
      "Howard the Duck : 2.138021149720199\n",
      "Texas Chainsaw Massacre, The : 3.138062405312045\n",
      "Crocodile Dundee : 3.259113471578895\n",
      "Â¡Three Amigos! : 3.180622652639278\n",
      "20 Dates : 2.7579532111450944\n",
      "Office Space : 4.058317650609327\n",
      "Logan's Run : 3.326527096972426\n",
      "Planet of the Apes : 3.2869270582232395\n",
      "Lock, Stock & Two Smoking Barrels : 4.2080937431854535\n",
      "Matrix, The : 4.339476578336059\n",
      "Go : 4.036264248249791\n",
      "SLC Punk! : 4.080636302874207\n",
      "Dick Tracy : 3.377893457677532\n",
      "Mummy, The : 3.238901420075828\n",
      "Star Wars: Episode I - The Phantom Menace : 3.256702511629986\n",
      "Superman : 3.692468745808289\n",
      "Superman II : 3.0156666604427995\n",
      "Dracula : 3.3906546930247115\n",
      "Frankenstein : 3.756420347558009\n",
      "Wolf Man, The : 3.394922934022273\n",
      "Rocky Horror Picture Show, The : 3.463512499581083\n",
      "Run Lola Run : 4.021508855159644\n",
      "South Park: Bigger, Longer and Uncut : 3.9289665684906265\n",
      "Ghostbusters : 3.7603125354917784\n",
      "Iron Giant, The : 4.065465202207027\n",
      "Big : 3.7338961799236445\n",
      "13th Warrior, The : 3.1282479106304\n",
      "American Beauty : 4.119649273887641\n",
      "Excalibur : 3.4469617491191764\n",
      "Gulliver's Travels : 1.930287831430881\n",
      "Total Recall : 3.7331670080762214\n",
      "Dirty Dozen, The : 3.9943561225415336\n",
      "Goldfinger : 3.8488809135700017\n",
      "From Russia with Love : 3.698832782101506\n",
      "Dr. No : 3.776803158788699\n",
      "Fight Club : 4.364638122978916\n",
      "RoboCop : 3.3032230666682527\n",
      "Who Framed Roger Rabbit? : 3.614114232397093\n",
      "Live and Let Die : 3.7139417614692656\n",
      "Thunderball : 3.4653205836267937\n",
      "Being John Malkovich : 3.9374897804203064\n",
      "Spaceballs : 3.547668048530168\n",
      "Robin Hood : 3.5226988563276094\n",
      "Dogma : 3.666235879199483\n",
      "Messenger: The Story of Joan of Arc, The : 3.655700668356209\n",
      "Longest Day, The : 3.984930155850468\n",
      "Green Mile, The : 4.287192926092673\n",
      "Easy Rider : 3.7772756843645263\n",
      "Talented Mr. Ripley, The : 3.465803662865275\n",
      "Encino Man : 2.4201877715513733\n",
      "Sister Act : 3.4641658830605597\n",
      "Wayne's World : 3.52688237368214\n",
      "Scream 3 : 2.709862724490902\n",
      "JFK : 3.459424616170864\n",
      "Teenage Mutant Ninja Turtles II: The Secret of the Ooze : 2.5076353878174644\n",
      "Teenage Mutant Ninja Turtles III : 2.147551529813355\n",
      "Red Dawn : 3.2593368264880356\n",
      "Good Morning, Vietnam : 3.8798640236921953\n",
      "Grumpy Old Men : 3.5687693179733655\n",
      "Ladyhawke : 3.3370391521875344\n",
      "Hook : 3.4575995255194587\n",
      "Predator : 3.683048811086709\n",
      "Gladiator : 4.175733438090771\n",
      "Road Trip : 3.1070778043717326\n",
      "Man with the Golden Gun, The : 3.6548471573541867\n",
      "Blazing Saddles : 4.049069567886781\n",
      "Mad Max : 3.617014863466659\n",
      "Road Warrior, The : 4.044897019482593\n",
      "Shaft : 2.616375905119772\n",
      "Big Trouble in Little China : 3.9096729114815383\n",
      "X-Men : 3.7793085542182387\n",
      "What About Bob? : 3.3506595419254364\n",
      "Transformers: The Movie : 3.2662219436150774\n",
      "M*A*S*H : 4.097276135803078\n"
     ]
    }
   ],
   "source": [
    "for movie in profiles['user_1']:\n",
    "    try:\n",
    "        print(f'{movie} : {predict_rating(\"user_1\",movie)}')\n",
    "    except:\n",
    "        pass"
   ]
  },
  {
   "cell_type": "code",
   "execution_count": null,
   "id": "4a1662b6",
   "metadata": {},
   "outputs": [],
   "source": []
  }
 ],
 "metadata": {
  "kernelspec": {
   "display_name": "Python 3",
   "language": "python",
   "name": "python3"
  },
  "language_info": {
   "codemirror_mode": {
    "name": "ipython",
    "version": 3
   },
   "file_extension": ".py",
   "mimetype": "text/x-python",
   "name": "python",
   "nbconvert_exporter": "python",
   "pygments_lexer": "ipython3",
   "version": "3.8.8"
  }
 },
 "nbformat": 4,
 "nbformat_minor": 5
}
